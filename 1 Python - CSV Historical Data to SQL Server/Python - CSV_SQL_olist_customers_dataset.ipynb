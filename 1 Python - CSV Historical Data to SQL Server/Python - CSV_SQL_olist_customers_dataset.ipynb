{
 "cells": [
  {
   "cell_type": "code",
   "execution_count": 11,
   "id": "65572a8f-571e-4867-9ce1-b1a50dbe9539",
   "metadata": {},
   "outputs": [],
   "source": [
    "#!pip install pypyodbc"
   ]
  },
  {
   "cell_type": "code",
   "execution_count": 12,
   "id": "33d541b3",
   "metadata": {},
   "outputs": [
    {
     "name": "stdout",
     "output_type": "stream",
     "text": [
      "['SQL Server', 'Microsoft Access Driver (*.mdb, *.accdb)', 'Microsoft Excel Driver (*.xls, *.xlsx, *.xlsm, *.xlsb)', 'Microsoft Access Text Driver (*.txt, *.csv)', 'ODBC Driver 17 for SQL Server', 'SQL Server Native Client RDA 11.0', 'SQL Server Native Client RDA 11.0']\n"
     ]
    }
   ],
   "source": [
    "import pypyodbc as odbc\n",
    "import pandas as pd\n",
    "import time\n",
    "import os\n",
    "\n",
    "print(odbc.drivers())"
   ]
  },
  {
   "cell_type": "markdown",
   "id": "80bb3e95-b4a8-4ef9-b0dd-6a6e1d65e3f7",
   "metadata": {},
   "source": [
    "#### Needed Inputs:"
   ]
  },
  {
   "cell_type": "code",
   "execution_count": 13,
   "id": "2618cbac-d8be-47e3-ab37-14cb3e8fbd4b",
   "metadata": {},
   "outputs": [],
   "source": [
    "driverName = \"SQL Server\" \n",
    "serverName = \"DESKTOP-UVMKETP\\SQLEXPRESS\"\n",
    "dataBaseName = \"SQL_PowerBI_Test\"\n",
    "username = \"jvenncpe\"\n",
    "pwd = \"#Juv1994*\"\n",
    "\n",
    "tableName = \"olist_customers_dataset\"\n",
    "csv_FileName = r\"olist_customers_dataset.csv\" #To be used for column name reference in SQL Table\n",
    "csv_FilePaTH = r\"G:\\00 Work Files\\02 Work Trainings & Apps\\00 Project Portfolio\\Ecommerce_Amazon (Python, SQL, PowerBI)\\CSV Files\\Amazon_Olist\"\n",
    "csv_FolderName = rf\"{tableName}\""
   ]
  },
  {
   "cell_type": "markdown",
   "id": "ec0aeeb0-e713-491e-898f-471739ad7bde",
   "metadata": {},
   "source": [
    "### Custom Functions"
   ]
  },
  {
   "cell_type": "code",
   "execution_count": 14,
   "id": "f3d287df",
   "metadata": {},
   "outputs": [],
   "source": [
    "def updateSQL():\n",
    "    try:\n",
    "        conn.commit()\n",
    "        return print(\"SQL Updated Successfully!\")\n",
    "        \n",
    "    except Exception as e:\n",
    "        return print(f\"Error occurred: {e}\")\n",
    "\n",
    "def SQL_createTable_columnName(column):\n",
    "    column_names = []\n",
    "    for x in column:\n",
    "        x = f'[{x}] VARCHAR(MAX)'\n",
    "        column_names.append(x)\n",
    "    return ', '.join(column_names)  # Join the column names with commas\n",
    "\n",
    "def SQL_createTable_query(tableName,tableColumns):\n",
    "    createTable_query = f\"\\\n",
    "    IF NOT EXISTS (SELECT * FROM INFORMATION_SCHEMA.TABLES WHERE TABLE_NAME = '{tableName}')\\\n",
    "    BEGIN\\\n",
    "        CREATE TABLE {dataBaseName}.dbo.{tableName}({tableColumns})\\\n",
    "    END\".strip()\n",
    "    return createTable_query\n",
    "\n",
    "def bulk_insert(datapath_file, SQL_Table):\n",
    "    insertBulk_query = f\"\"\"\n",
    "        BULK INSERT {SQL_Table}\n",
    "        FROM '{datapath_file}'\n",
    "        WITH\n",
    "        (   \n",
    "            FIRSTROW = 2, \n",
    "            FIELDTERMINATOR = ',',\n",
    "            ROWTERMINATOR = '\\\\n'\n",
    "        )    \n",
    "    \"\"\".strip()\n",
    "    return insertBulk_query"
   ]
  },
  {
   "cell_type": "markdown",
   "id": "67c27963-55f5-4ff7-a390-06080658e313",
   "metadata": {},
   "source": [
    "#### Adhoc SQL Configuration"
   ]
  },
  {
   "cell_type": "code",
   "execution_count": 15,
   "id": "e0969561-8207-452e-93bf-77dc72851fa3",
   "metadata": {},
   "outputs": [
    {
     "name": "stdout",
     "output_type": "stream",
     "text": [
      "Connection successful!\n"
     ]
    }
   ],
   "source": [
    "connection_string = f\"\"\"\n",
    "    DRIVER={{{driverName}}};\n",
    "    SERVER={serverName};\n",
    "    DATABASE={dataBaseName};\n",
    "    Trust_Connection=yes;\n",
    "    UID={username};\n",
    "    PWD={pwd};\n",
    "\"\"\"\n",
    "try:\n",
    "    conn = odbc.connect(connection_string)\n",
    "    cursor = conn.cursor()\n",
    "    print(\"Connection successful!\")\n",
    "\n",
    "except Exception as e:\n",
    "    print(f\"Error: {e}\")\n"
   ]
  },
  {
   "cell_type": "markdown",
   "id": "bb8e6cb8",
   "metadata": {},
   "source": [
    "#### Main Function"
   ]
  },
  {
   "cell_type": "code",
   "execution_count": 16,
   "id": "44223e83",
   "metadata": {},
   "outputs": [
    {
     "name": "stdout",
     "output_type": "stream",
     "text": [
      "SQL Updated Successfully!\n",
      "Target SQL Table: SQL_PowerBI_Test.dbo.olist_customers_dataset\n",
      "---------------------------\n",
      "Files to Upload:\n",
      "olist_customers_dataset.csv\n",
      "---------------------------\n",
      "SQL Updated Successfully!\n"
     ]
    }
   ],
   "source": [
    "if __name__ == '__main__':\n",
    "    csv_filePaTH_REF = os.path.join(csv_FilePaTH,csv_FolderName,csv_FileName)   \n",
    "    csv_FoldderPath = os.path.join(csv_FilePaTH, csv_FolderName)\n",
    "    \n",
    "    df_productDetails = pd.read_csv(csv_filePaTH_REF, encoding='latin1', na_values=[\"\"])\n",
    "    \n",
    "    for columnName in df_productDetails.columns:\n",
    "        columnName_After = columnName.replace(\".\",\"\")\n",
    "        columnName_After = columnName_After.replace(\" \",\"_\")\n",
    "        df_productDetails.rename(columns={columnName: columnName_After}, inplace=True)\n",
    "    \n",
    "    cursor = conn.cursor()\n",
    "    tableColumns = SQL_createTable_columnName(df_productDetails.columns)\n",
    "    \n",
    "    try:\n",
    "        with cursor:\n",
    "            cursor.execute(SQL_createTable_query(tableName,tableColumns))\n",
    "            updateSQL()\n",
    "    except Exception as e:\n",
    "        print(e)\n",
    "        conn.rollback()\n",
    "        print('Transaction rollback')\n",
    "    \n",
    "    data_files = os.listdir(csv_FoldderPath)\n",
    "    SQL_Table = f'{dataBaseName}.dbo.{tableName}'\n",
    "    \n",
    "    cursor = conn.cursor()\n",
    "    try:\n",
    "        with cursor:\n",
    "            print(f\"Target SQL Table: {SQL_Table}\")\n",
    "            print(f\"---------------------------\")\n",
    "            print(f\"Files to Upload:\")\n",
    "            \n",
    "            for data_file in data_files:\n",
    "                if data_file.endswith('.csv'):\n",
    "                    cursor.execute(bulk_insert(os.path.join(csv_FoldderPath, data_file), SQL_Table))\n",
    "                    print(data_file)\n",
    "                    \n",
    "            print(f\"---------------------------\")\n",
    "            updateSQL()\n",
    "            \n",
    "    except Exception as e:\n",
    "        print(e)\n",
    "        conn.rollback()\n",
    "        print('Transaction rollback')"
   ]
  },
  {
   "cell_type": "code",
   "execution_count": 17,
   "id": "21b8d4af-3c07-4a90-9171-42375e83211f",
   "metadata": {},
   "outputs": [
    {
     "data": {
      "text/html": [
       "<div>\n",
       "<style scoped>\n",
       "    .dataframe tbody tr th:only-of-type {\n",
       "        vertical-align: middle;\n",
       "    }\n",
       "\n",
       "    .dataframe tbody tr th {\n",
       "        vertical-align: top;\n",
       "    }\n",
       "\n",
       "    .dataframe thead th {\n",
       "        text-align: right;\n",
       "    }\n",
       "</style>\n",
       "<table border=\"1\" class=\"dataframe\">\n",
       "  <thead>\n",
       "    <tr style=\"text-align: right;\">\n",
       "      <th></th>\n",
       "      <th>customer_id</th>\n",
       "      <th>customer_unique_id</th>\n",
       "      <th>customer_zip_code_prefix</th>\n",
       "      <th>customer_city</th>\n",
       "      <th>customer_state</th>\n",
       "    </tr>\n",
       "  </thead>\n",
       "  <tbody>\n",
       "    <tr>\n",
       "      <th>0</th>\n",
       "      <td>06b8999e2fba1a1fbc88172c00ba8bc7</td>\n",
       "      <td>861eff4711a542e4b93843c6dd7febb0</td>\n",
       "      <td>14409</td>\n",
       "      <td>franca</td>\n",
       "      <td>SP</td>\n",
       "    </tr>\n",
       "    <tr>\n",
       "      <th>1</th>\n",
       "      <td>18955e83d337fd6b2def6b18a428ac77</td>\n",
       "      <td>290c77bc529b7ac935b93aa66c333dc3</td>\n",
       "      <td>9790</td>\n",
       "      <td>sao bernardo do campo</td>\n",
       "      <td>SP</td>\n",
       "    </tr>\n",
       "    <tr>\n",
       "      <th>2</th>\n",
       "      <td>4e7b3e00288586ebd08712fdd0374a03</td>\n",
       "      <td>060e732b5b29e8181a18229c7b0b2b5e</td>\n",
       "      <td>1151</td>\n",
       "      <td>sao paulo</td>\n",
       "      <td>SP</td>\n",
       "    </tr>\n",
       "    <tr>\n",
       "      <th>3</th>\n",
       "      <td>b2b6027bc5c5109e529d4dc6358b12c3</td>\n",
       "      <td>259dac757896d24d7702b9acbbff3f3c</td>\n",
       "      <td>8775</td>\n",
       "      <td>mogi das cruzes</td>\n",
       "      <td>SP</td>\n",
       "    </tr>\n",
       "    <tr>\n",
       "      <th>4</th>\n",
       "      <td>4f2d8ab171c80ec8364f7c12e35b23ad</td>\n",
       "      <td>345ecd01c38d18a9036ed96c73b8d066</td>\n",
       "      <td>13056</td>\n",
       "      <td>campinas</td>\n",
       "      <td>SP</td>\n",
       "    </tr>\n",
       "  </tbody>\n",
       "</table>\n",
       "</div>"
      ],
      "text/plain": [
       "                        customer_id                customer_unique_id  \\\n",
       "0  06b8999e2fba1a1fbc88172c00ba8bc7  861eff4711a542e4b93843c6dd7febb0   \n",
       "1  18955e83d337fd6b2def6b18a428ac77  290c77bc529b7ac935b93aa66c333dc3   \n",
       "2  4e7b3e00288586ebd08712fdd0374a03  060e732b5b29e8181a18229c7b0b2b5e   \n",
       "3  b2b6027bc5c5109e529d4dc6358b12c3  259dac757896d24d7702b9acbbff3f3c   \n",
       "4  4f2d8ab171c80ec8364f7c12e35b23ad  345ecd01c38d18a9036ed96c73b8d066   \n",
       "\n",
       "   customer_zip_code_prefix          customer_city customer_state  \n",
       "0                     14409                 franca             SP  \n",
       "1                      9790  sao bernardo do campo             SP  \n",
       "2                      1151              sao paulo             SP  \n",
       "3                      8775        mogi das cruzes             SP  \n",
       "4                     13056               campinas             SP  "
      ]
     },
     "execution_count": 17,
     "metadata": {},
     "output_type": "execute_result"
    }
   ],
   "source": [
    "df_productDetails.head()"
   ]
  },
  {
   "cell_type": "code",
   "execution_count": null,
   "id": "a01e6a74-4012-479e-a3ce-40698aaec0f6",
   "metadata": {},
   "outputs": [],
   "source": []
  }
 ],
 "metadata": {
  "kernelspec": {
   "display_name": "ecommerceAmazon",
   "language": "python",
   "name": "ecommerceamazon"
  },
  "language_info": {
   "codemirror_mode": {
    "name": "ipython",
    "version": 3
   },
   "file_extension": ".py",
   "mimetype": "text/x-python",
   "name": "python",
   "nbconvert_exporter": "python",
   "pygments_lexer": "ipython3",
   "version": "3.10.11"
  }
 },
 "nbformat": 4,
 "nbformat_minor": 5
}

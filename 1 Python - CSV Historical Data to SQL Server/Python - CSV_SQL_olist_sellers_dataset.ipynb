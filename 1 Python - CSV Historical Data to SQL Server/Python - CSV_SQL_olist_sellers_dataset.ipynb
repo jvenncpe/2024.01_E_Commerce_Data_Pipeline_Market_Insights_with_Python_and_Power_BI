{
 "cells": [
  {
   "cell_type": "code",
   "execution_count": 6,
   "id": "33d541b3",
   "metadata": {},
   "outputs": [
    {
     "name": "stdout",
     "output_type": "stream",
     "text": [
      "['SQL Server', 'Microsoft Access Driver (*.mdb, *.accdb)', 'Microsoft Excel Driver (*.xls, *.xlsx, *.xlsm, *.xlsb)', 'Microsoft Access Text Driver (*.txt, *.csv)', 'ODBC Driver 17 for SQL Server', 'SQL Server Native Client RDA 11.0', 'SQL Server Native Client RDA 11.0']\n"
     ]
    }
   ],
   "source": [
    "import pypyodbc as odbc #!pip install pypyodbc\n",
    "import pandas as pd\n",
    "import time\n",
    "import os\n",
    "\n",
    "print(odbc.drivers())"
   ]
  },
  {
   "cell_type": "markdown",
   "id": "80bb3e95-b4a8-4ef9-b0dd-6a6e1d65e3f7",
   "metadata": {},
   "source": [
    "#### Needed Inputs:"
   ]
  },
  {
   "cell_type": "code",
   "execution_count": 7,
   "id": "2618cbac-d8be-47e3-ab37-14cb3e8fbd4b",
   "metadata": {},
   "outputs": [],
   "source": [
    "driverName = \"SQL Server\" \n",
    "serverName = \"DESKTOP-UVMKETP\\SQLEXPRESS\"\n",
    "dataBaseName = \"SQL_PowerBI_Test\"\n",
    "username = \"jvenncpe\"\n",
    "pwd = \"#Juv1994*\"\n",
    "\n",
    "tableName = \"olist_sellers_dataset\"\n",
    "csv_FilePaTH = r\"G:\\00 Work Files\\02 Work Trainings & Apps\\00 Project Portfolio\\Ecommerce_Amazon (Python, SQL, PowerBI)\\CSV Files\\Amazon_Olist\"\n",
    "csv_FileName = r\"olist_sellers_dataset.csv\" #To be used for column name reference in SQL Table\n",
    "csv_FolderName = rf\"{tableName}\""
   ]
  },
  {
   "cell_type": "markdown",
   "id": "ec0aeeb0-e713-491e-898f-471739ad7bde",
   "metadata": {},
   "source": [
    "### Custom Functions"
   ]
  },
  {
   "cell_type": "code",
   "execution_count": 8,
   "id": "f3d287df",
   "metadata": {},
   "outputs": [],
   "source": [
    "def updateSQL():\n",
    "    try:\n",
    "        conn.commit()\n",
    "        return print(\"SQL Updated Successfully!\")\n",
    "        \n",
    "    except Exception as e:\n",
    "        return print(f\"Error occurred: {e}\")\n",
    "\n",
    "def SQL_createTable_columnName(column):\n",
    "    column_names = []\n",
    "    for x in column:\n",
    "        x = f'[{x}] VARCHAR(MAX)'\n",
    "        column_names.append(x)\n",
    "    return ', '.join(column_names)  # Join the column names with commas\n",
    "\n",
    "def SQL_createTable_query(tableName,tableColumns):\n",
    "    createTable_query = f\"\\\n",
    "    IF NOT EXISTS (SELECT * FROM INFORMATION_SCHEMA.TABLES WHERE TABLE_NAME = '{tableName}')\\\n",
    "    BEGIN\\\n",
    "        CREATE TABLE {dataBaseName}.dbo.{tableName}({tableColumns})\\\n",
    "    END\".strip()\n",
    "    return createTable_query\n",
    "\n",
    "def bulk_insert(datapath_file, SQL_Table):\n",
    "    insertBulk_query = f\"\"\"\n",
    "        BULK INSERT {SQL_Table}\n",
    "        FROM '{datapath_file}'\n",
    "        WITH\n",
    "        (\n",
    "            FIELDQUOTE = '\"',\n",
    "            FIRSTROW = 2,\n",
    "            FIELDTERMINATOR = ',', \n",
    "            ROWTERMINATOR = '\\n',  \n",
    "            TABLOCK\n",
    "        ) \n",
    "    \"\"\".strip()\n",
    "    return insertBulk_query"
   ]
  },
  {
   "cell_type": "markdown",
   "id": "67c27963-55f5-4ff7-a390-06080658e313",
   "metadata": {},
   "source": [
    "#### Adhoc SQL Configuration"
   ]
  },
  {
   "cell_type": "code",
   "execution_count": 9,
   "id": "e0969561-8207-452e-93bf-77dc72851fa3",
   "metadata": {},
   "outputs": [
    {
     "name": "stdout",
     "output_type": "stream",
     "text": [
      "Connection successful!\n"
     ]
    }
   ],
   "source": [
    "connection_string = f\"\"\"\n",
    "    DRIVER={{{driverName}}};\n",
    "    SERVER={serverName};\n",
    "    DATABASE={dataBaseName};\n",
    "    Trust_Connection=yes;\n",
    "    UID={username};\n",
    "    PWD={pwd};\n",
    "\"\"\"\n",
    "try:\n",
    "    conn = odbc.connect(connection_string)\n",
    "    cursor = conn.cursor()\n",
    "    print(\"Connection successful!\")\n",
    "\n",
    "except Exception as e:\n",
    "    print(f\"Error: {e}\")\n"
   ]
  },
  {
   "cell_type": "markdown",
   "id": "bb8e6cb8",
   "metadata": {},
   "source": [
    "#### Main Function"
   ]
  },
  {
   "cell_type": "code",
   "execution_count": 10,
   "id": "44223e83",
   "metadata": {},
   "outputs": [
    {
     "name": "stdout",
     "output_type": "stream",
     "text": [
      "SQL Updated Successfully!\n",
      "Target SQL Table: SQL_PowerBI_Test.dbo.olist_sellers_dataset\n",
      "---------------------------\n",
      "Files to Upload:\n",
      "olist_sellers_dataset.csv\n",
      "---------------------------\n",
      "SQL Updated Successfully!\n"
     ]
    }
   ],
   "source": [
    "if __name__ == '__main__':\n",
    "    csv_filePaTH_REF = os.path.join(csv_FilePaTH,csv_FolderName,csv_FileName)   \n",
    "    csv_FoldderPath = os.path.join(csv_FilePaTH, csv_FolderName)\n",
    "    \n",
    "    df_productDetails = pd.read_csv(csv_filePaTH_REF, encoding='latin1', na_values=[\"\"])\n",
    "    \n",
    "    for columnName in df_productDetails.columns:\n",
    "        columnName_After = columnName.replace(\".\",\"\")\n",
    "        columnName_After = columnName_After.replace(\" \",\"_\")\n",
    "        df_productDetails.rename(columns={columnName: columnName_After}, inplace=True)\n",
    "    \n",
    "    cursor = conn.cursor()\n",
    "    tableColumns = SQL_createTable_columnName(df_productDetails.columns)\n",
    "    \n",
    "    try:\n",
    "        with cursor:\n",
    "            cursor.execute(SQL_createTable_query(tableName,tableColumns))\n",
    "            updateSQL()\n",
    "    except Exception as e:\n",
    "        print(e)\n",
    "        conn.rollback()\n",
    "        print('Transaction rollback')\n",
    "    \n",
    "    data_files = os.listdir(csv_FoldderPath)\n",
    "    SQL_Table = f'{dataBaseName}.dbo.{tableName}'\n",
    "    \n",
    "    cursor = conn.cursor()\n",
    "    try:\n",
    "        with cursor:\n",
    "            print(f\"Target SQL Table: {SQL_Table}\")\n",
    "            print(f\"---------------------------\")\n",
    "            print(f\"Files to Upload:\")\n",
    "            \n",
    "            for data_file in data_files:\n",
    "                if data_file.endswith('.csv'):\n",
    "                    cursor.execute(bulk_insert(os.path.join(csv_FoldderPath, data_file), SQL_Table))\n",
    "                    print(data_file)\n",
    "                    \n",
    "            print(f\"---------------------------\")\n",
    "            updateSQL()\n",
    "            \n",
    "    except Exception as e:\n",
    "        print(e)\n",
    "        conn.rollback()\n",
    "        print('Transaction rollback')"
   ]
  },
  {
   "cell_type": "code",
   "execution_count": 11,
   "id": "eef9455c-e14f-4205-a0d0-777cb979a68d",
   "metadata": {},
   "outputs": [
    {
     "data": {
      "text/html": [
       "<div>\n",
       "<style scoped>\n",
       "    .dataframe tbody tr th:only-of-type {\n",
       "        vertical-align: middle;\n",
       "    }\n",
       "\n",
       "    .dataframe tbody tr th {\n",
       "        vertical-align: top;\n",
       "    }\n",
       "\n",
       "    .dataframe thead th {\n",
       "        text-align: right;\n",
       "    }\n",
       "</style>\n",
       "<table border=\"1\" class=\"dataframe\">\n",
       "  <thead>\n",
       "    <tr style=\"text-align: right;\">\n",
       "      <th></th>\n",
       "      <th>seller_id</th>\n",
       "      <th>seller_zip_code_prefix</th>\n",
       "      <th>seller_city</th>\n",
       "      <th>seller_state</th>\n",
       "    </tr>\n",
       "  </thead>\n",
       "  <tbody>\n",
       "    <tr>\n",
       "      <th>0</th>\n",
       "      <td>3442f8959a84dea7ee197c632cb2df15</td>\n",
       "      <td>13023</td>\n",
       "      <td>campinas</td>\n",
       "      <td>SP</td>\n",
       "    </tr>\n",
       "    <tr>\n",
       "      <th>1</th>\n",
       "      <td>d1b65fc7debc3361ea86b5f14c68d2e2</td>\n",
       "      <td>13844</td>\n",
       "      <td>mogi guacu</td>\n",
       "      <td>SP</td>\n",
       "    </tr>\n",
       "    <tr>\n",
       "      <th>2</th>\n",
       "      <td>ce3ad9de960102d0677a81f5d0bb7b2d</td>\n",
       "      <td>20031</td>\n",
       "      <td>rio de janeiro</td>\n",
       "      <td>RJ</td>\n",
       "    </tr>\n",
       "    <tr>\n",
       "      <th>3</th>\n",
       "      <td>c0f3eea2e14555b6faeea3dd58c1b1c3</td>\n",
       "      <td>4195</td>\n",
       "      <td>sao paulo</td>\n",
       "      <td>SP</td>\n",
       "    </tr>\n",
       "    <tr>\n",
       "      <th>4</th>\n",
       "      <td>51a04a8a6bdcb23deccc82b0b80742cf</td>\n",
       "      <td>12914</td>\n",
       "      <td>braganca paulista</td>\n",
       "      <td>SP</td>\n",
       "    </tr>\n",
       "  </tbody>\n",
       "</table>\n",
       "</div>"
      ],
      "text/plain": [
       "                          seller_id  seller_zip_code_prefix  \\\n",
       "0  3442f8959a84dea7ee197c632cb2df15                   13023   \n",
       "1  d1b65fc7debc3361ea86b5f14c68d2e2                   13844   \n",
       "2  ce3ad9de960102d0677a81f5d0bb7b2d                   20031   \n",
       "3  c0f3eea2e14555b6faeea3dd58c1b1c3                    4195   \n",
       "4  51a04a8a6bdcb23deccc82b0b80742cf                   12914   \n",
       "\n",
       "         seller_city seller_state  \n",
       "0           campinas           SP  \n",
       "1         mogi guacu           SP  \n",
       "2     rio de janeiro           RJ  \n",
       "3          sao paulo           SP  \n",
       "4  braganca paulista           SP  "
      ]
     },
     "execution_count": 11,
     "metadata": {},
     "output_type": "execute_result"
    }
   ],
   "source": [
    "df_productDetails.head(5)"
   ]
  }
 ],
 "metadata": {
  "kernelspec": {
   "display_name": "ecommerceAmazon",
   "language": "python",
   "name": "ecommerceamazon"
  },
  "language_info": {
   "codemirror_mode": {
    "name": "ipython",
    "version": 3
   },
   "file_extension": ".py",
   "mimetype": "text/x-python",
   "name": "python",
   "nbconvert_exporter": "python",
   "pygments_lexer": "ipython3",
   "version": "3.10.11"
  }
 },
 "nbformat": 4,
 "nbformat_minor": 5
}

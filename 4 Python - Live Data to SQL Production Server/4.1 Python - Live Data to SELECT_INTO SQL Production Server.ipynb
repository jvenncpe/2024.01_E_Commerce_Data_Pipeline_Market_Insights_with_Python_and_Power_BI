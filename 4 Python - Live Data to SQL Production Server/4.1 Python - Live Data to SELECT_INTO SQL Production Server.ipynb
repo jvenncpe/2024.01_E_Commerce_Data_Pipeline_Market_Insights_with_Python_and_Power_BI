{
 "cells": [
  {
   "cell_type": "code",
   "execution_count": 67,
   "id": "71775c02-633f-4e44-b98b-24bc90be6f25",
   "metadata": {},
   "outputs": [
    {
     "name": "stdout",
     "output_type": "stream",
     "text": [
      "['SQL Server', 'Microsoft Access Driver (*.mdb, *.accdb)', 'Microsoft Excel Driver (*.xls, *.xlsx, *.xlsm, *.xlsb)', 'Microsoft Access Text Driver (*.txt, *.csv)', 'ODBC Driver 17 for SQL Server', 'SQL Server Native Client RDA 11.0', 'SQL Server Native Client RDA 11.0']\n"
     ]
    }
   ],
   "source": [
    "import pypyodbc as odbc #!pip install pypyodbc\n",
    "import pandas as pd\n",
    "import time\n",
    "import os\n",
    "\n",
    "print(odbc.drivers())"
   ]
  },
  {
   "cell_type": "code",
   "execution_count": 68,
   "id": "1f53c8b3-4264-4a5e-b54c-5f282f93a381",
   "metadata": {},
   "outputs": [],
   "source": [
    "driverName = \"SQL Server\" \n",
    "serverName = \"DESKTOP-UVMKETP\\SQLEXPRESS\"\n",
    "TEMP_dataBaseName = \"SQL_PowerBI_Test\"\n",
    "FIN_dataBaseName = \"SQL_PowerBI_Production\"\n",
    "username = \"jvenncpe\"\n",
    "pwd = \"#Juv1994*\"\n",
    "tableName = \"productDetails\""
   ]
  },
  {
   "cell_type": "code",
   "execution_count": 69,
   "id": "7a7e13f2-8d33-43db-b3c2-f555556fa06e",
   "metadata": {},
   "outputs": [],
   "source": [
    "def updateSQL():\n",
    "    try:\n",
    "        conn.commit()\n",
    "        return print(\"SQL Updated Successfully!\")\n",
    "        \n",
    "    except Exception as e:\n",
    "        return print(f\"Error occurred: {e}\")\n",
    "\n",
    "def SQL_dropTable_query(SQLDatabase,SQLTableName):\n",
    "    SQL_dropTable_query = f\"\\\n",
    "        DROP TABLE IF EXISTS {SQLDatabase}.dbo.{SQLTableName}\".strip()\n",
    "    return SQL_dropTable_query\n",
    "\n",
    "def SQL_Production_query():\n",
    "    SQL_InsertTable_To_Production_query = f\"\"\"\n",
    "    WITH\n",
    "        distinct_Test as\n",
    "        (\n",
    "        SELECT DISTINCT * FROM SQL_PowerBI_Test.dbo.productDetails\n",
    "        ),\n",
    "\n",
    "\t\tdistinct_timestamp as\n",
    "\t\t(\n",
    "\t\tSELECT DISTINCT [ASIN], [TIMESTAMP] FROM distinct_Test\n",
    "\t\t),\n",
    "\n",
    "\t\tdistinct_tables as\n",
    "        (\n",
    "        SELECT \n",
    "            Table1.[TIMESTAMP]\n",
    "            ,Table1.[ASIN]\n",
    "            ,[CATEGORY]\n",
    "            ,[TITLE]\n",
    "            ,[PRICE]\n",
    "            ,[RATING]\n",
    "            ,[NO_OF_REVIEWS]\n",
    "            ,[NO_OF_SOLD_PRODUCTS]\n",
    "            ,[LINK]\n",
    "        FROM distinct_timestamp as Table1\n",
    "    \n",
    "        LEFT JOIN distinct_Test ON \n",
    "            Table1.[TIMESTAMP] = distinct_Test.[TIMESTAMP] AND Table1.[ASIN] = distinct_Test.[ASIN]\n",
    "        ),\n",
    "\n",
    "        CLEAN_NO_OF_SOLD_PRODUCT as\n",
    "        (\n",
    "        SELECT DISTINCT\n",
    "            [ASIN]\n",
    "\t\t\t,[TIMESTAMP]\n",
    "            ,CAST\n",
    "            (\n",
    "                COALESCE\n",
    "                (\n",
    "                    CASE \n",
    "                        WHEN TRY_CAST(NO_OF_SOLD_PRODUCTS AS INT) IS NULL THEN 0\n",
    "                        ELSE CAST(NO_OF_SOLD_PRODUCTS AS INT)\n",
    "                    END, 0\n",
    "                ) \n",
    "            AS INT\n",
    "            ) AS NO_OF_SOLD_PRODUCTS\n",
    "            \n",
    "                FROM\n",
    "                (\n",
    "                    SELECT\n",
    "                        [ASIN],\n",
    "                        SUBSTRING([NO_OF_SOLD_PRODUCTS], 1, CHARINDEX(' ', NO_OF_REVIEWS) - 1) AS NO_OF_SOLD_PRODUCTS\n",
    "\t\t\t\t\t\t,[TIMESTAMP]\n",
    "                    FROM distinct_tables\n",
    "                ) AS sub\n",
    "        ),\n",
    "            \n",
    "        CLEAN_PRICE as\n",
    "        (\n",
    "        SELECT DISTINCT\n",
    "            [ASIN]\n",
    "            ,CAST(REPLACE(REPLACE(REPLACE(PRICE, '$', ''),'S',''),',','') AS FLOAT) as PRICE\n",
    "\t\t\t,[TIMESTAMP]\n",
    "        FROM distinct_tables\n",
    "        ),\n",
    "            \n",
    "        CleanedTable as\n",
    "        (\n",
    "        SELECT DISTINCT\n",
    "            CAST(COALESCE(Table1.[TIMESTAMP], '0') AS DATETIME) AS [TIMESTAMP],\n",
    "            CAST(COALESCE(Table1.[TIMESTAMP], '0') AS DATE) AS [DATE],\n",
    "            COALESCE(Table1.[ASIN], '0') AS [ASIN],\n",
    "            COALESCE(CATEGORY, 'Unknown') AS [CATEGORY],\n",
    "            COALESCE(TITLE, 'Unknown') AS [TITLE],\n",
    "            COALESCE(CLEAN_PRICE.PRICE, '0.00') AS [PRICE],\n",
    "            CAST(REPLACE(COALESCE(SUBSTRING(RATING, 1, CHARINDEX(' ', RATING) - 1), '0.00'),',','') AS FLOAT) AS [RATING],\n",
    "            CAST(REPLACE(COALESCE(SUBSTRING(NO_OF_REVIEWS, 1, CHARINDEX(' ', NO_OF_REVIEWS) - 1), '0'),',','') AS INT)  AS [NO_OF_REVIEWS],\n",
    "            COALESCE(CLEAN_NO_OF_SOLD_PRODUCT.NO_OF_SOLD_PRODUCTS,'0') AS [NO_OF_SOLD_PRODUCTS],\n",
    "            COALESCE(LINK, '0') AS [LINK]\n",
    "            \n",
    "        FROM distinct_tables as Table1\n",
    "            \n",
    "        INNER JOIN CLEAN_NO_OF_SOLD_PRODUCT ON Table1.[ASIN] = CLEAN_NO_OF_SOLD_PRODUCT.[ASIN] AND Table1.[TIMESTAMP] = CLEAN_NO_OF_SOLD_PRODUCT.[TIMESTAMP]\n",
    "        INNER JOIN CLEAN_PRICE ON Table1.[ASIN] = CLEAN_PRICE.[ASIN] AND Table1.[TIMESTAMP] = CLEAN_PRICE.[TIMESTAMP]\n",
    "        )\n",
    "      \n",
    "        SELECT *\n",
    "\t\tINTO SQL_PowerBI_Production.dbo.productDetails\n",
    "        FROM CleanedTable;\n",
    "    \"\"\".strip()\n",
    "    return SQL_InsertTable_To_Production_query"
   ]
  },
  {
   "cell_type": "markdown",
   "id": "b32eb924-25e2-4cca-b998-a2c831a41599",
   "metadata": {},
   "source": [
    "#### Adhoc SQL Configuration"
   ]
  },
  {
   "cell_type": "code",
   "execution_count": 70,
   "id": "561e1b1a-62ff-425f-934e-180e00a62727",
   "metadata": {},
   "outputs": [],
   "source": [
    "def TEMP_dataBaseName_connect():\n",
    "    connection_string = f\"\"\"\n",
    "        DRIVER={{{driverName}}};\n",
    "        SERVER={serverName};\n",
    "        DATABASE={TEMP_dataBaseName};\n",
    "        Trust_Connection=yes;\n",
    "        UID={username};\n",
    "        PWD={pwd};\n",
    "    \"\"\"\n",
    "    try:\n",
    "        conn = odbc.connect(connection_string)\n",
    "        cursor = conn.cursor()\n",
    "        a = print(f\"Connection successful! for {TEMP_dataBaseName}\")\n",
    "    \n",
    "    except Exception as e:\n",
    "        a = print(f\"Error: {e}\")\n",
    "    return a, conn, cursor"
   ]
  },
  {
   "cell_type": "code",
   "execution_count": 71,
   "id": "4d0914ce-cf10-463b-979b-b64634a3e639",
   "metadata": {},
   "outputs": [],
   "source": [
    "def FIN_dataBaseName_connect():\n",
    "    connection_string = f\"\"\"\n",
    "        DRIVER={{{driverName}}};\n",
    "        SERVER={serverName};\n",
    "        DATABASE={FIN_dataBaseName};\n",
    "        Trust_Connection=yes;\n",
    "        UID={username};\n",
    "        PWD={pwd};\n",
    "    \"\"\"\n",
    "    try:\n",
    "        conn = odbc.connect(connection_string)\n",
    "        cursor = conn.cursor()\n",
    "        a = print(f\"Connection successful! for {FIN_dataBaseName}\")\n",
    "    \n",
    "    except Exception as e:\n",
    "        a = print(f\"Error: {e}\")\n",
    "        \n",
    "    return a, conn, cursor"
   ]
  },
  {
   "cell_type": "markdown",
   "id": "81639311-fafe-4dad-a696-90acbddc5df4",
   "metadata": {},
   "source": [
    "#### Main Function"
   ]
  },
  {
   "cell_type": "code",
   "execution_count": 72,
   "id": "f278458a-a495-45b3-a72a-081847482982",
   "metadata": {},
   "outputs": [
    {
     "name": "stdout",
     "output_type": "stream",
     "text": [
      "Connection successful! for SQL_PowerBI_Production\n",
      "SQL Updated Successfully!\n",
      "Connection successful! for SQL_PowerBI_Test\n",
      "SQL Updated Successfully!\n"
     ]
    }
   ],
   "source": [
    "if __name__ == '__main__':\n",
    "    \n",
    "    a, conn, cursor = FIN_dataBaseName_connect()\n",
    "    try:\n",
    "        with cursor:\n",
    "            cursor.execute(SQL_dropTable_query(FIN_dataBaseName,tableName))\n",
    "            updateSQL()\n",
    "    except Exception as e:\n",
    "        print(e)\n",
    "        conn.rollback()\n",
    "        print('Transaction rollback')\n",
    "\n",
    "    a, conn, cursor = TEMP_dataBaseName_connect()\n",
    "    try:\n",
    "        with cursor:\n",
    "            cursor.execute(SQL_Production_query())\n",
    "            updateSQL()\n",
    "    except Exception as e:\n",
    "        print(e)\n",
    "        conn.rollback()\n",
    "        print('Transaction rollback')"
   ]
  },
  {
   "cell_type": "code",
   "execution_count": null,
   "id": "075cf484-44c1-401b-9ae6-0c4326517693",
   "metadata": {},
   "outputs": [],
   "source": []
  }
 ],
 "metadata": {
  "kernelspec": {
   "display_name": "ecommerceAmazon",
   "language": "python",
   "name": "ecommerceamazon"
  },
  "language_info": {
   "codemirror_mode": {
    "name": "ipython",
    "version": 3
   },
   "file_extension": ".py",
   "mimetype": "text/x-python",
   "name": "python",
   "nbconvert_exporter": "python",
   "pygments_lexer": "ipython3",
   "version": "3.10.11"
  }
 },
 "nbformat": 4,
 "nbformat_minor": 5
}

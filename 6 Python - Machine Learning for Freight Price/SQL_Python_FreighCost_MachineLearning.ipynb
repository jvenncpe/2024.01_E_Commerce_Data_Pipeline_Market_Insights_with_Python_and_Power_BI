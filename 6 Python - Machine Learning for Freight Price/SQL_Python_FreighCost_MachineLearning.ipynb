{
 "cells": [
  {
   "cell_type": "markdown",
   "id": "78304f8e-3975-4cdc-b936-29db3e15b7db",
   "metadata": {},
   "source": [
    "# Connect and Extract Data from SQL Server"
   ]
  },
  {
   "cell_type": "code",
   "execution_count": 14,
   "id": "fa874381-d401-43eb-bd62-84a220d7a546",
   "metadata": {},
   "outputs": [
    {
     "name": "stdout",
     "output_type": "stream",
     "text": [
      "['SQL Server', 'Microsoft Access Driver (*.mdb, *.accdb)', 'Microsoft Excel Driver (*.xls, *.xlsx, *.xlsm, *.xlsb)', 'Microsoft Access Text Driver (*.txt, *.csv)', 'ODBC Driver 17 for SQL Server', 'SQL Server Native Client RDA 11.0', 'SQL Server Native Client RDA 11.0']\n"
     ]
    }
   ],
   "source": [
    "import pypyodbc as odbc #!pip install pypyodbc\n",
    "import pandas as pd\n",
    "import numpy as np\n",
    "import time\n",
    "import os\n",
    "\n",
    "print(odbc.drivers())"
   ]
  },
  {
   "cell_type": "code",
   "execution_count": 15,
   "id": "2fb8b045-50dd-4bc0-a71e-265a57e0beb9",
   "metadata": {},
   "outputs": [],
   "source": [
    "driverName = \"SQL Server\" \n",
    "serverName = \"DESKTOP-UVMKETP\\SQLEXPRESS\"\n",
    "dataBaseName = \"SQL_PowerBI_Test\"\n",
    "username = \"jvenncpe\"\n",
    "pwd = \"#Juv1994*\"\n",
    "\n",
    "dv = \"------------------------------\""
   ]
  },
  {
   "cell_type": "code",
   "execution_count": 16,
   "id": "eb11d0de-421a-4abc-8d14-d6856b5da302",
   "metadata": {},
   "outputs": [],
   "source": [
    "def updateSQL():\n",
    "    try:\n",
    "        conn.commit()\n",
    "        return print(\"SQL Updated Successfully!\")\n",
    "        \n",
    "    except Exception as e:\n",
    "        return print(f\"Error occurred: {e}\")"
   ]
  },
  {
   "cell_type": "code",
   "execution_count": 17,
   "id": "3fe9508b-1f18-4142-b5ba-4e0d25fb0b62",
   "metadata": {},
   "outputs": [],
   "source": [
    "def createFreightQuery():\n",
    "    freight_query = f\"\"\"\n",
    "    WITH\n",
    "        CLEAN_products_category_items AS\n",
    "        (\n",
    "        SELECT \n",
    "            REPLACE(t1.product_id,'\"','') AS product_id\n",
    "            , t1.product_height_cm\n",
    "            , t1.product_length_cm\n",
    "            , t1.product_weight_g\n",
    "            , t1.product_width_cm\n",
    "            , t3.freight_value\n",
    "            , t3.price\n",
    "            , t3.[ï»¿order_id]\n",
    "        FROM\n",
    "            SQL_PowerBI_Test.dbo.olist_products_dataset AS t1\n",
    "        \n",
    "        LEFT JOIN [product_category_name_translation] AS t2 ON t1.product_category_name = t2.[ï»¿product_category_name]\n",
    "        LEFT JOIN [olist_order_items_dataset] AS t3 ON t1.product_id = t3.product_id\n",
    "        ),\n",
    "        \n",
    "        CLEAN_orders_customers_dataset AS\n",
    "        (\n",
    "        SELECT\n",
    "            t1.[order_id]\n",
    "            , t1.[customer_id]\n",
    "            , t2.customer_city\n",
    "            , t2.customer_state\n",
    "            , t2.customer_zip_code_prefix\n",
    "        FROM [SQL_PowerBI_Test].[dbo].[olist_orders_dataset] as t1\n",
    "        \n",
    "        LEFT JOIN [olist_customers_dataset] AS t2 ON t1.customer_id = t2.customer_id\n",
    "        ),\n",
    "        \n",
    "        Distinct_CLEAN_products_category_items AS\n",
    "        (\n",
    "        SELECT DISTINCT *\n",
    "        FROM CLEAN_products_category_items\n",
    "        ),\n",
    "        \n",
    "        Distinct_CLEAN_orders_customers_dataset AS\n",
    "        (\n",
    "        SELECT DISTINCT *\n",
    "        FROM CLEAN_orders_customers_dataset\n",
    "        ),\n",
    "        \n",
    "        MERGE_allNeeded AS\n",
    "        (\n",
    "        SELECT\n",
    "            *\n",
    "        FROM Distinct_CLEAN_products_category_items AS t1\n",
    "        LEFT JOIN Distinct_CLEAN_orders_customers_dataset AS t2 ON t1.[ï»¿order_id] = t2.order_id\n",
    "        )\n",
    "        \n",
    "        SELECT DISTINCT * FROM MERGE_allNeeded WHERE freight_value IS NOT NULL\n",
    "    \"\"\"\n",
    "    return freight_query"
   ]
  },
  {
   "cell_type": "code",
   "execution_count": 18,
   "id": "7f915919-b4d5-40d9-ac3e-1d5b432d51f7",
   "metadata": {},
   "outputs": [
    {
     "name": "stdout",
     "output_type": "stream",
     "text": [
      "Connection successful!\n"
     ]
    }
   ],
   "source": [
    "connection_string = f\"\"\"\n",
    "    DRIVER={{{driverName}}};\n",
    "    SERVER={serverName};\n",
    "    DATABASE={dataBaseName};\n",
    "    Trust_Connection=yes;\n",
    "    UID={username};\n",
    "    PWD={pwd};\n",
    "\"\"\"\n",
    "try:\n",
    "    conn = odbc.connect(connection_string)\n",
    "    cursor = conn.cursor()\n",
    "    print(\"Connection successful!\")\n",
    "\n",
    "except Exception as e:\n",
    "    print(f\"Error: {e}\")"
   ]
  },
  {
   "cell_type": "code",
   "execution_count": 19,
   "id": "64ee5553-a49f-45b6-88b0-6c7f1c3254d5",
   "metadata": {},
   "outputs": [],
   "source": [
    "cursor = conn.cursor()\n",
    "\n",
    "try:\n",
    "    with cursor:\n",
    "        cursor.execute(createFreightQuery())\n",
    "        freight_query = cursor.fetchall()\n",
    "except Exception as e:\n",
    "    print(e)\n",
    "    conn.rollback()\n",
    "    print('Transaction rollback')\n",
    "finally:\n",
    "    if conn is not None:\n",
    "        conn.close()"
   ]
  },
  {
   "cell_type": "code",
   "execution_count": 20,
   "id": "6c0724e6-62df-4565-a4bb-08d667d27bcf",
   "metadata": {},
   "outputs": [
    {
     "data": {
      "text/html": [
       "<div>\n",
       "<style scoped>\n",
       "    .dataframe tbody tr th:only-of-type {\n",
       "        vertical-align: middle;\n",
       "    }\n",
       "\n",
       "    .dataframe tbody tr th {\n",
       "        vertical-align: top;\n",
       "    }\n",
       "\n",
       "    .dataframe thead th {\n",
       "        text-align: right;\n",
       "    }\n",
       "</style>\n",
       "<table border=\"1\" class=\"dataframe\">\n",
       "  <thead>\n",
       "    <tr style=\"text-align: right;\">\n",
       "      <th></th>\n",
       "      <th>0</th>\n",
       "      <th>1</th>\n",
       "      <th>2</th>\n",
       "      <th>3</th>\n",
       "      <th>4</th>\n",
       "      <th>5</th>\n",
       "      <th>6</th>\n",
       "      <th>7</th>\n",
       "      <th>8</th>\n",
       "      <th>9</th>\n",
       "      <th>10</th>\n",
       "      <th>11</th>\n",
       "      <th>12</th>\n",
       "    </tr>\n",
       "  </thead>\n",
       "  <tbody>\n",
       "    <tr>\n",
       "      <th>0</th>\n",
       "      <td>a000c3bbcabfea20a59fc2a10b9a6cf5</td>\n",
       "      <td>13</td>\n",
       "      <td>70</td>\n",
       "      <td>350</td>\n",
       "      <td>12</td>\n",
       "      <td>11.86\\r</td>\n",
       "      <td>10</td>\n",
       "      <td>f2f5bdd435d706928f8210b650cd33bd</td>\n",
       "      <td>f2f5bdd435d706928f8210b650cd33bd</td>\n",
       "      <td>b74cd76f4d7ad4dec2b3132d50590d3b</td>\n",
       "      <td>sao paulo</td>\n",
       "      <td>SP</td>\n",
       "      <td>5036</td>\n",
       "    </tr>\n",
       "    <tr>\n",
       "      <th>1</th>\n",
       "      <td>a0045b8457877b5981ed6c79b9b0765a</td>\n",
       "      <td>4</td>\n",
       "      <td>19</td>\n",
       "      <td>100</td>\n",
       "      <td>11</td>\n",
       "      <td>16.79\\r</td>\n",
       "      <td>19.9</td>\n",
       "      <td>e126a4c926bda89ae444a788cb74d989</td>\n",
       "      <td>e126a4c926bda89ae444a788cb74d989</td>\n",
       "      <td>bb85c4ac0d64b224ec32224e91af4980</td>\n",
       "      <td>sapeacu</td>\n",
       "      <td>BA</td>\n",
       "      <td>44530</td>\n",
       "    </tr>\n",
       "    <tr>\n",
       "      <th>2</th>\n",
       "      <td>a0045b8457877b5981ed6c79b9b0765a</td>\n",
       "      <td>4</td>\n",
       "      <td>19</td>\n",
       "      <td>100</td>\n",
       "      <td>11</td>\n",
       "      <td>21.15\\r</td>\n",
       "      <td>19.9</td>\n",
       "      <td>84e18f4b5b541150af97e94f3cc0b2a7</td>\n",
       "      <td>84e18f4b5b541150af97e94f3cc0b2a7</td>\n",
       "      <td>b9e8d20467df2fd1b1ca8bb650a87dcc</td>\n",
       "      <td>sao luis</td>\n",
       "      <td>MA</td>\n",
       "      <td>65075</td>\n",
       "    </tr>\n",
       "    <tr>\n",
       "      <th>3</th>\n",
       "      <td>a0045b8457877b5981ed6c79b9b0765a</td>\n",
       "      <td>4</td>\n",
       "      <td>19</td>\n",
       "      <td>100</td>\n",
       "      <td>11</td>\n",
       "      <td>7.78\\r</td>\n",
       "      <td>19.9</td>\n",
       "      <td>e0519f85bba56ba4bd2ec14a3c2c9d92</td>\n",
       "      <td>e0519f85bba56ba4bd2ec14a3c2c9d92</td>\n",
       "      <td>11fea740df095db33a9ced60fc8dd2d1</td>\n",
       "      <td>campinas</td>\n",
       "      <td>SP</td>\n",
       "      <td>13092</td>\n",
       "    </tr>\n",
       "    <tr>\n",
       "      <th>4</th>\n",
       "      <td>a00722035cea70bbf671b758459cde42</td>\n",
       "      <td>95</td>\n",
       "      <td>16</td>\n",
       "      <td>15742</td>\n",
       "      <td>33</td>\n",
       "      <td>53.11\\r</td>\n",
       "      <td>189</td>\n",
       "      <td>0159c6355a4e32f6ac68d838e2228150</td>\n",
       "      <td>0159c6355a4e32f6ac68d838e2228150</td>\n",
       "      <td>bf0176bae5facd261148fb881ccb8cc6</td>\n",
       "      <td>santana de parnaiba</td>\n",
       "      <td>SP</td>\n",
       "      <td>6506</td>\n",
       "    </tr>\n",
       "    <tr>\n",
       "      <th>...</th>\n",
       "      <td>...</td>\n",
       "      <td>...</td>\n",
       "      <td>...</td>\n",
       "      <td>...</td>\n",
       "      <td>...</td>\n",
       "      <td>...</td>\n",
       "      <td>...</td>\n",
       "      <td>...</td>\n",
       "      <td>...</td>\n",
       "      <td>...</td>\n",
       "      <td>...</td>\n",
       "      <td>...</td>\n",
       "      <td>...</td>\n",
       "    </tr>\n",
       "    <tr>\n",
       "      <th>38201</th>\n",
       "      <td>fffdb2d0ec8d6a61f0a0a0db3f25b441</td>\n",
       "      <td>4</td>\n",
       "      <td>16</td>\n",
       "      <td>150</td>\n",
       "      <td>13</td>\n",
       "      <td>18.23\\r</td>\n",
       "      <td>34.99</td>\n",
       "      <td>beaf95465b542dea76df78b2fb86a97a</td>\n",
       "      <td>beaf95465b542dea76df78b2fb86a97a</td>\n",
       "      <td>d14930bf3da4e0ba5a02cc8d6ac80f6e</td>\n",
       "      <td>coromandel</td>\n",
       "      <td>MG</td>\n",
       "      <td>38550</td>\n",
       "    </tr>\n",
       "    <tr>\n",
       "      <th>38202</th>\n",
       "      <td>fffdb2d0ec8d6a61f0a0a0db3f25b441</td>\n",
       "      <td>4</td>\n",
       "      <td>16</td>\n",
       "      <td>150</td>\n",
       "      <td>13</td>\n",
       "      <td>7.39\\r</td>\n",
       "      <td>34.99</td>\n",
       "      <td>dd38c566a34ff9deb93ff05d7bd6d0aa</td>\n",
       "      <td>dd38c566a34ff9deb93ff05d7bd6d0aa</td>\n",
       "      <td>35e8f2cff4eeed925cfa42f6731a4425</td>\n",
       "      <td>sao paulo</td>\n",
       "      <td>SP</td>\n",
       "      <td>3820</td>\n",
       "    </tr>\n",
       "    <tr>\n",
       "      <th>38203</th>\n",
       "      <td>fffdb2d0ec8d6a61f0a0a0db3f25b441</td>\n",
       "      <td>4</td>\n",
       "      <td>16</td>\n",
       "      <td>150</td>\n",
       "      <td>13</td>\n",
       "      <td>7.51\\r</td>\n",
       "      <td>34.99</td>\n",
       "      <td>2878b4e373a9556df9aa1708a4e5c3c8</td>\n",
       "      <td>2878b4e373a9556df9aa1708a4e5c3c8</td>\n",
       "      <td>a050cd2edce49d430222e6019fa50fd2</td>\n",
       "      <td>sao paulo</td>\n",
       "      <td>SP</td>\n",
       "      <td>5591</td>\n",
       "    </tr>\n",
       "    <tr>\n",
       "      <th>38204</th>\n",
       "      <td>fffdb2d0ec8d6a61f0a0a0db3f25b441</td>\n",
       "      <td>4</td>\n",
       "      <td>16</td>\n",
       "      <td>150</td>\n",
       "      <td>13</td>\n",
       "      <td>7.51\\r</td>\n",
       "      <td>34.99</td>\n",
       "      <td>d6c1ed12e8eeaa15e9d5c83c79598f85</td>\n",
       "      <td>d6c1ed12e8eeaa15e9d5c83c79598f85</td>\n",
       "      <td>550ccac77275f9cdec4b6cd97ac118d0</td>\n",
       "      <td>sao paulo</td>\n",
       "      <td>SP</td>\n",
       "      <td>4547</td>\n",
       "    </tr>\n",
       "    <tr>\n",
       "      <th>38205</th>\n",
       "      <td>fffe9eeff12fcbd74a2f2b007dde0c58</td>\n",
       "      <td>16</td>\n",
       "      <td>43</td>\n",
       "      <td>3900</td>\n",
       "      <td>11</td>\n",
       "      <td>53.88\\r</td>\n",
       "      <td>249.99</td>\n",
       "      <td>fbf3da6fe82010412982890b0c57e532</td>\n",
       "      <td>fbf3da6fe82010412982890b0c57e532</td>\n",
       "      <td>e24fae1db3d4f392215beb9553f72f82</td>\n",
       "      <td>palmas</td>\n",
       "      <td>TO</td>\n",
       "      <td>77016</td>\n",
       "    </tr>\n",
       "  </tbody>\n",
       "</table>\n",
       "<p>38206 rows × 13 columns</p>\n",
       "</div>"
      ],
      "text/plain": [
       "                                     0   1   2      3   4        5       6   \\\n",
       "0      a000c3bbcabfea20a59fc2a10b9a6cf5  13  70    350  12  11.86\\r      10   \n",
       "1      a0045b8457877b5981ed6c79b9b0765a   4  19    100  11  16.79\\r    19.9   \n",
       "2      a0045b8457877b5981ed6c79b9b0765a   4  19    100  11  21.15\\r    19.9   \n",
       "3      a0045b8457877b5981ed6c79b9b0765a   4  19    100  11   7.78\\r    19.9   \n",
       "4      a00722035cea70bbf671b758459cde42  95  16  15742  33  53.11\\r     189   \n",
       "...                                 ...  ..  ..    ...  ..      ...     ...   \n",
       "38201  fffdb2d0ec8d6a61f0a0a0db3f25b441   4  16    150  13  18.23\\r   34.99   \n",
       "38202  fffdb2d0ec8d6a61f0a0a0db3f25b441   4  16    150  13   7.39\\r   34.99   \n",
       "38203  fffdb2d0ec8d6a61f0a0a0db3f25b441   4  16    150  13   7.51\\r   34.99   \n",
       "38204  fffdb2d0ec8d6a61f0a0a0db3f25b441   4  16    150  13   7.51\\r   34.99   \n",
       "38205  fffe9eeff12fcbd74a2f2b007dde0c58  16  43   3900  11  53.88\\r  249.99   \n",
       "\n",
       "                                     7                                 8   \\\n",
       "0      f2f5bdd435d706928f8210b650cd33bd  f2f5bdd435d706928f8210b650cd33bd   \n",
       "1      e126a4c926bda89ae444a788cb74d989  e126a4c926bda89ae444a788cb74d989   \n",
       "2      84e18f4b5b541150af97e94f3cc0b2a7  84e18f4b5b541150af97e94f3cc0b2a7   \n",
       "3      e0519f85bba56ba4bd2ec14a3c2c9d92  e0519f85bba56ba4bd2ec14a3c2c9d92   \n",
       "4      0159c6355a4e32f6ac68d838e2228150  0159c6355a4e32f6ac68d838e2228150   \n",
       "...                                 ...                               ...   \n",
       "38201  beaf95465b542dea76df78b2fb86a97a  beaf95465b542dea76df78b2fb86a97a   \n",
       "38202  dd38c566a34ff9deb93ff05d7bd6d0aa  dd38c566a34ff9deb93ff05d7bd6d0aa   \n",
       "38203  2878b4e373a9556df9aa1708a4e5c3c8  2878b4e373a9556df9aa1708a4e5c3c8   \n",
       "38204  d6c1ed12e8eeaa15e9d5c83c79598f85  d6c1ed12e8eeaa15e9d5c83c79598f85   \n",
       "38205  fbf3da6fe82010412982890b0c57e532  fbf3da6fe82010412982890b0c57e532   \n",
       "\n",
       "                                     9                    10  11     12  \n",
       "0      b74cd76f4d7ad4dec2b3132d50590d3b            sao paulo  SP   5036  \n",
       "1      bb85c4ac0d64b224ec32224e91af4980              sapeacu  BA  44530  \n",
       "2      b9e8d20467df2fd1b1ca8bb650a87dcc             sao luis  MA  65075  \n",
       "3      11fea740df095db33a9ced60fc8dd2d1             campinas  SP  13092  \n",
       "4      bf0176bae5facd261148fb881ccb8cc6  santana de parnaiba  SP   6506  \n",
       "...                                 ...                  ...  ..    ...  \n",
       "38201  d14930bf3da4e0ba5a02cc8d6ac80f6e           coromandel  MG  38550  \n",
       "38202  35e8f2cff4eeed925cfa42f6731a4425            sao paulo  SP   3820  \n",
       "38203  a050cd2edce49d430222e6019fa50fd2            sao paulo  SP   5591  \n",
       "38204  550ccac77275f9cdec4b6cd97ac118d0            sao paulo  SP   4547  \n",
       "38205  e24fae1db3d4f392215beb9553f72f82               palmas  TO  77016  \n",
       "\n",
       "[38206 rows x 13 columns]"
      ]
     },
     "metadata": {},
     "output_type": "display_data"
    }
   ],
   "source": [
    "df_freight = pd.DataFrame(freight_query)\n",
    "display(df_freight)"
   ]
  },
  {
   "cell_type": "markdown",
   "id": "4f897100-b5af-4ac2-9018-25ade1079aea",
   "metadata": {},
   "source": [
    "# Data Exploration, Cleaning and Analysis"
   ]
  },
  {
   "cell_type": "code",
   "execution_count": 21,
   "id": "2ef49528-ea75-4867-a4d4-8f06db3e778d",
   "metadata": {},
   "outputs": [
    {
     "data": {
      "text/plain": [
       "Index(['Product Id', 'Product Height (cm)', 'Product Length (cm)',\n",
       "       'Product Weight (g)', 'Product Width (cm)', 'Freight Value',\n",
       "       'Price ($)', 'Order ID', 'Order ID', 'Customer ID', 'Customer City',\n",
       "       'Customer State', 'Customer Zip Code Prefix'],\n",
       "      dtype='object')"
      ]
     },
     "execution_count": 21,
     "metadata": {},
     "output_type": "execute_result"
    }
   ],
   "source": [
    "replace_columnNames = \\\n",
    "[\"Product Id\",\n",
    "\"Product Height (cm)\",\n",
    "\"Product Length (cm)\",\n",
    "\"Product Weight (g)\",\n",
    "\"Product Width (cm)\",\n",
    "\"Freight Value\",\n",
    "\"Price ($)\",\n",
    "\"Order ID\",\n",
    "\"Order ID\",\n",
    "\"Customer ID\",\n",
    "\"Customer City\",\n",
    "\"Customer State\",\n",
    "\"Customer Zip Code Prefix\"]\n",
    "\n",
    "df_freight.columns = replace_columnNames\n",
    "df_freight.columns"
   ]
  },
  {
   "cell_type": "code",
   "execution_count": 22,
   "id": "54643e53-f1c2-4ff6-b7c2-73dfdc351a20",
   "metadata": {},
   "outputs": [
    {
     "data": {
      "text/plain": [
       "Product Id                  0\n",
       "Product Height (cm)         0\n",
       "Product Length (cm)         0\n",
       "Product Weight (g)          0\n",
       "Product Width (cm)          0\n",
       "Freight Value               0\n",
       "Price ($)                   0\n",
       "Order ID                    0\n",
       "Order ID                    0\n",
       "Customer ID                 0\n",
       "Customer City               0\n",
       "Customer State              0\n",
       "Customer Zip Code Prefix    0\n",
       "dtype: int64"
      ]
     },
     "execution_count": 22,
     "metadata": {},
     "output_type": "execute_result"
    }
   ],
   "source": [
    "df_freight.isnull().sum()"
   ]
  },
  {
   "cell_type": "code",
   "execution_count": 23,
   "id": "3ee27799-9581-4a3d-b62a-5a7b1a924c34",
   "metadata": {},
   "outputs": [],
   "source": [
    "df_freight_null = df_freight.dropna(subset = [\"Freight Value\"])"
   ]
  },
  {
   "cell_type": "code",
   "execution_count": 24,
   "id": "60434f30-3ed3-4e4d-b9a4-f61c61f4e348",
   "metadata": {},
   "outputs": [
    {
     "data": {
      "text/plain": [
       "Product Id                  0\n",
       "Product Height (cm)         0\n",
       "Product Length (cm)         0\n",
       "Product Weight (g)          0\n",
       "Product Width (cm)          0\n",
       "Freight Value               0\n",
       "Price ($)                   0\n",
       "Order ID                    0\n",
       "Order ID                    0\n",
       "Customer ID                 0\n",
       "Customer City               0\n",
       "Customer State              0\n",
       "Customer Zip Code Prefix    0\n",
       "dtype: int64"
      ]
     },
     "execution_count": 24,
     "metadata": {},
     "output_type": "execute_result"
    }
   ],
   "source": [
    "df_freight_null.isnull().sum()"
   ]
  },
  {
   "cell_type": "markdown",
   "id": "bc96b79a-b2ad-4d74-a3ec-82d2c49a37ee",
   "metadata": {},
   "source": [
    "# ---------------------------------------------------"
   ]
  },
  {
   "cell_type": "code",
   "execution_count": 25,
   "id": "e26522fc-b731-4c85-8f50-107112c99be4",
   "metadata": {},
   "outputs": [],
   "source": [
    "df_freight_null_columndrop = df_freight_null.drop(columns = \\\n",
    "[\"Product Id\",\n",
    "\"Order ID\",\n",
    "\"Order ID\",\n",
    "\"Customer ID\"])"
   ]
  },
  {
   "cell_type": "code",
   "execution_count": 26,
   "id": "9a1ac20b-58a2-4e63-930e-cb1569c14565",
   "metadata": {},
   "outputs": [
    {
     "name": "stdout",
     "output_type": "stream",
     "text": [
      "<class 'pandas.core.frame.DataFrame'>\n",
      "RangeIndex: 38206 entries, 0 to 38205\n",
      "Data columns (total 9 columns):\n",
      " #   Column                    Non-Null Count  Dtype \n",
      "---  ------                    --------------  ----- \n",
      " 0   Product Height (cm)       38206 non-null  object\n",
      " 1   Product Length (cm)       38206 non-null  object\n",
      " 2   Product Weight (g)        38206 non-null  object\n",
      " 3   Product Width (cm)        38206 non-null  object\n",
      " 4   Freight Value             38206 non-null  object\n",
      " 5   Price ($)                 38206 non-null  object\n",
      " 6   Customer City             38206 non-null  object\n",
      " 7   Customer State            38206 non-null  object\n",
      " 8   Customer Zip Code Prefix  38206 non-null  object\n",
      "dtypes: object(9)\n",
      "memory usage: 2.6+ MB\n"
     ]
    }
   ],
   "source": [
    "df_freight_null_columndrop.info()"
   ]
  },
  {
   "cell_type": "code",
   "execution_count": 27,
   "id": "a973eaa5-bd68-4122-aa37-853298ec69d3",
   "metadata": {},
   "outputs": [
    {
     "data": {
      "text/plain": [
       "Index(['Product Height (cm)', 'Product Length (cm)', 'Product Weight (g)',\n",
       "       'Product Width (cm)', 'Freight Value', 'Price ($)', 'Customer City',\n",
       "       'Customer State', 'Customer Zip Code Prefix'],\n",
       "      dtype='object')"
      ]
     },
     "execution_count": 27,
     "metadata": {},
     "output_type": "execute_result"
    }
   ],
   "source": [
    "df_freight_null_columndrop.columns"
   ]
  },
  {
   "cell_type": "code",
   "execution_count": 28,
   "id": "d5227ac8-1021-4d5c-a30c-2fe659bf412f",
   "metadata": {},
   "outputs": [],
   "source": [
    "numeric_columns = ['Product Height (cm)', 'Product Length (cm)', 'Product Weight (g)',\n",
    "       'Product Width (cm)', 'Freight Value', 'Price ($)']"
   ]
  },
  {
   "cell_type": "code",
   "execution_count": 29,
   "id": "cd68cdfe-74de-413b-9311-e567fa1ddb32",
   "metadata": {},
   "outputs": [
    {
     "name": "stdout",
     "output_type": "stream",
     "text": [
      "Product Height (cm)\n",
      "Product Length (cm)\n",
      "Product Weight (g)\n",
      "Product Width (cm)\n",
      "Freight Value\n",
      "Price ($)\n"
     ]
    }
   ],
   "source": [
    "for column in numeric_columns:\n",
    "    print(column)\n",
    "    df_freight_null_columndrop[column] = pd.to_numeric(df_freight_null_columndrop[column], errors='coerce')"
   ]
  },
  {
   "cell_type": "code",
   "execution_count": 30,
   "id": "65403f9a-cf16-4432-ad95-4202072672d7",
   "metadata": {},
   "outputs": [
    {
     "name": "stdout",
     "output_type": "stream",
     "text": [
      "<class 'pandas.core.frame.DataFrame'>\n",
      "RangeIndex: 38206 entries, 0 to 38205\n",
      "Data columns (total 9 columns):\n",
      " #   Column                    Non-Null Count  Dtype  \n",
      "---  ------                    --------------  -----  \n",
      " 0   Product Height (cm)       38206 non-null  int64  \n",
      " 1   Product Length (cm)       38206 non-null  int64  \n",
      " 2   Product Weight (g)        38206 non-null  int64  \n",
      " 3   Product Width (cm)        38206 non-null  int64  \n",
      " 4   Freight Value             38206 non-null  float64\n",
      " 5   Price ($)                 38206 non-null  float64\n",
      " 6   Customer City             38206 non-null  object \n",
      " 7   Customer State            38206 non-null  object \n",
      " 8   Customer Zip Code Prefix  38206 non-null  object \n",
      "dtypes: float64(2), int64(4), object(3)\n",
      "memory usage: 2.6+ MB\n"
     ]
    }
   ],
   "source": [
    "df_freight_null_columndrop.info()"
   ]
  },
  {
   "cell_type": "code",
   "execution_count": 31,
   "id": "e143d0a2-157c-4e72-bdcc-d56bd55978a9",
   "metadata": {},
   "outputs": [
    {
     "data": {
      "text/html": [
       "<div>\n",
       "<style scoped>\n",
       "    .dataframe tbody tr th:only-of-type {\n",
       "        vertical-align: middle;\n",
       "    }\n",
       "\n",
       "    .dataframe tbody tr th {\n",
       "        vertical-align: top;\n",
       "    }\n",
       "\n",
       "    .dataframe thead th {\n",
       "        text-align: right;\n",
       "    }\n",
       "</style>\n",
       "<table border=\"1\" class=\"dataframe\">\n",
       "  <thead>\n",
       "    <tr style=\"text-align: right;\">\n",
       "      <th></th>\n",
       "      <th>Product Height (cm)</th>\n",
       "      <th>Product Length (cm)</th>\n",
       "      <th>Product Weight (g)</th>\n",
       "      <th>Product Width (cm)</th>\n",
       "      <th>Freight Value</th>\n",
       "      <th>Price ($)</th>\n",
       "      <th>Customer City</th>\n",
       "      <th>Customer State</th>\n",
       "      <th>Customer Zip Code Prefix</th>\n",
       "    </tr>\n",
       "  </thead>\n",
       "  <tbody>\n",
       "    <tr>\n",
       "      <th>0</th>\n",
       "      <td>13</td>\n",
       "      <td>70</td>\n",
       "      <td>350</td>\n",
       "      <td>12</td>\n",
       "      <td>11.86</td>\n",
       "      <td>10.0</td>\n",
       "      <td>sao paulo</td>\n",
       "      <td>SP</td>\n",
       "      <td>5036</td>\n",
       "    </tr>\n",
       "    <tr>\n",
       "      <th>1</th>\n",
       "      <td>4</td>\n",
       "      <td>19</td>\n",
       "      <td>100</td>\n",
       "      <td>11</td>\n",
       "      <td>16.79</td>\n",
       "      <td>19.9</td>\n",
       "      <td>sapeacu</td>\n",
       "      <td>BA</td>\n",
       "      <td>44530</td>\n",
       "    </tr>\n",
       "    <tr>\n",
       "      <th>2</th>\n",
       "      <td>4</td>\n",
       "      <td>19</td>\n",
       "      <td>100</td>\n",
       "      <td>11</td>\n",
       "      <td>21.15</td>\n",
       "      <td>19.9</td>\n",
       "      <td>sao luis</td>\n",
       "      <td>MA</td>\n",
       "      <td>65075</td>\n",
       "    </tr>\n",
       "    <tr>\n",
       "      <th>3</th>\n",
       "      <td>4</td>\n",
       "      <td>19</td>\n",
       "      <td>100</td>\n",
       "      <td>11</td>\n",
       "      <td>7.78</td>\n",
       "      <td>19.9</td>\n",
       "      <td>campinas</td>\n",
       "      <td>SP</td>\n",
       "      <td>13092</td>\n",
       "    </tr>\n",
       "    <tr>\n",
       "      <th>4</th>\n",
       "      <td>95</td>\n",
       "      <td>16</td>\n",
       "      <td>15742</td>\n",
       "      <td>33</td>\n",
       "      <td>53.11</td>\n",
       "      <td>189.0</td>\n",
       "      <td>santana de parnaiba</td>\n",
       "      <td>SP</td>\n",
       "      <td>6506</td>\n",
       "    </tr>\n",
       "  </tbody>\n",
       "</table>\n",
       "</div>"
      ],
      "text/plain": [
       "   Product Height (cm)  Product Length (cm)  Product Weight (g)  \\\n",
       "0                   13                   70                 350   \n",
       "1                    4                   19                 100   \n",
       "2                    4                   19                 100   \n",
       "3                    4                   19                 100   \n",
       "4                   95                   16               15742   \n",
       "\n",
       "   Product Width (cm)  Freight Value  Price ($)        Customer City  \\\n",
       "0                  12          11.86       10.0            sao paulo   \n",
       "1                  11          16.79       19.9              sapeacu   \n",
       "2                  11          21.15       19.9             sao luis   \n",
       "3                  11           7.78       19.9             campinas   \n",
       "4                  33          53.11      189.0  santana de parnaiba   \n",
       "\n",
       "  Customer State Customer Zip Code Prefix  \n",
       "0             SP                     5036  \n",
       "1             BA                    44530  \n",
       "2             MA                    65075  \n",
       "3             SP                    13092  \n",
       "4             SP                     6506  "
      ]
     },
     "execution_count": 31,
     "metadata": {},
     "output_type": "execute_result"
    }
   ],
   "source": [
    "df_freight_null_columndrop.head(5)"
   ]
  },
  {
   "cell_type": "code",
   "execution_count": 32,
   "id": "f90301e6-e9f1-4a58-a645-d3655060e7cd",
   "metadata": {},
   "outputs": [],
   "source": [
    "target_mean_customercity = df_freight_null_columndrop.groupby('Customer City')['Freight Value'].mean().to_dict()\n",
    "target_mean_customerstate = df_freight_null_columndrop.groupby('Customer State')['Freight Value'].mean().to_dict()\n",
    "target_mean_customerzip = df_freight_null_columndrop.groupby('Customer Zip Code Prefix')['Freight Value'].mean().to_dict()"
   ]
  },
  {
   "cell_type": "code",
   "execution_count": 33,
   "id": "d269cf7a-b347-40c1-8652-fddbc3f661ac",
   "metadata": {},
   "outputs": [],
   "source": [
    "df_freight_null_columndrop['Customer City'] = df_freight_null_columndrop['Customer City'].map(target_mean_customercity)\n",
    "df_freight_null_columndrop['Customer State'] = df_freight_null_columndrop['Customer State'].map(target_mean_customerstate)\n",
    "df_freight_null_columndrop['Customer Zip Code Prefix'] = df_freight_null_columndrop['Customer Zip Code Prefix'].map(target_mean_customerzip)"
   ]
  },
  {
   "cell_type": "code",
   "execution_count": 34,
   "id": "389a8061-8851-48fd-9b6b-9700ec4c91ab",
   "metadata": {},
   "outputs": [
    {
     "data": {
      "text/html": [
       "<div>\n",
       "<style scoped>\n",
       "    .dataframe tbody tr th:only-of-type {\n",
       "        vertical-align: middle;\n",
       "    }\n",
       "\n",
       "    .dataframe tbody tr th {\n",
       "        vertical-align: top;\n",
       "    }\n",
       "\n",
       "    .dataframe thead th {\n",
       "        text-align: right;\n",
       "    }\n",
       "</style>\n",
       "<table border=\"1\" class=\"dataframe\">\n",
       "  <thead>\n",
       "    <tr style=\"text-align: right;\">\n",
       "      <th></th>\n",
       "      <th>Product Height (cm)</th>\n",
       "      <th>Product Length (cm)</th>\n",
       "      <th>Product Weight (g)</th>\n",
       "      <th>Product Width (cm)</th>\n",
       "      <th>Freight Value</th>\n",
       "      <th>Price ($)</th>\n",
       "      <th>Customer City</th>\n",
       "      <th>Customer State</th>\n",
       "      <th>Customer Zip Code Prefix</th>\n",
       "    </tr>\n",
       "  </thead>\n",
       "  <tbody>\n",
       "    <tr>\n",
       "      <th>0</th>\n",
       "      <td>13</td>\n",
       "      <td>70</td>\n",
       "      <td>350</td>\n",
       "      <td>12</td>\n",
       "      <td>11.86</td>\n",
       "      <td>10.0</td>\n",
       "      <td>14.408382</td>\n",
       "      <td>15.333367</td>\n",
       "      <td>17.837143</td>\n",
       "    </tr>\n",
       "    <tr>\n",
       "      <th>1</th>\n",
       "      <td>4</td>\n",
       "      <td>19</td>\n",
       "      <td>100</td>\n",
       "      <td>11</td>\n",
       "      <td>16.79</td>\n",
       "      <td>19.9</td>\n",
       "      <td>16.790000</td>\n",
       "      <td>26.662475</td>\n",
       "      <td>16.790000</td>\n",
       "    </tr>\n",
       "    <tr>\n",
       "      <th>2</th>\n",
       "      <td>4</td>\n",
       "      <td>19</td>\n",
       "      <td>100</td>\n",
       "      <td>11</td>\n",
       "      <td>21.15</td>\n",
       "      <td>19.9</td>\n",
       "      <td>32.244552</td>\n",
       "      <td>38.006376</td>\n",
       "      <td>33.485833</td>\n",
       "    </tr>\n",
       "    <tr>\n",
       "      <th>3</th>\n",
       "      <td>4</td>\n",
       "      <td>19</td>\n",
       "      <td>100</td>\n",
       "      <td>11</td>\n",
       "      <td>7.78</td>\n",
       "      <td>19.9</td>\n",
       "      <td>14.696241</td>\n",
       "      <td>15.333367</td>\n",
       "      <td>9.770625</td>\n",
       "    </tr>\n",
       "    <tr>\n",
       "      <th>4</th>\n",
       "      <td>95</td>\n",
       "      <td>16</td>\n",
       "      <td>15742</td>\n",
       "      <td>33</td>\n",
       "      <td>53.11</td>\n",
       "      <td>189.0</td>\n",
       "      <td>14.301646</td>\n",
       "      <td>15.333367</td>\n",
       "      <td>53.110000</td>\n",
       "    </tr>\n",
       "  </tbody>\n",
       "</table>\n",
       "</div>"
      ],
      "text/plain": [
       "   Product Height (cm)  Product Length (cm)  Product Weight (g)  \\\n",
       "0                   13                   70                 350   \n",
       "1                    4                   19                 100   \n",
       "2                    4                   19                 100   \n",
       "3                    4                   19                 100   \n",
       "4                   95                   16               15742   \n",
       "\n",
       "   Product Width (cm)  Freight Value  Price ($)  Customer City  \\\n",
       "0                  12          11.86       10.0      14.408382   \n",
       "1                  11          16.79       19.9      16.790000   \n",
       "2                  11          21.15       19.9      32.244552   \n",
       "3                  11           7.78       19.9      14.696241   \n",
       "4                  33          53.11      189.0      14.301646   \n",
       "\n",
       "   Customer State  Customer Zip Code Prefix  \n",
       "0       15.333367                 17.837143  \n",
       "1       26.662475                 16.790000  \n",
       "2       38.006376                 33.485833  \n",
       "3       15.333367                  9.770625  \n",
       "4       15.333367                 53.110000  "
      ]
     },
     "execution_count": 34,
     "metadata": {},
     "output_type": "execute_result"
    }
   ],
   "source": [
    "df_freight_null_columndrop.head(5)"
   ]
  },
  {
   "cell_type": "code",
   "execution_count": 35,
   "id": "07fd40cd-5a4c-4c7f-9099-4d51d49f5bd5",
   "metadata": {},
   "outputs": [],
   "source": [
    "#!pip install joblib==1.1.1\n",
    "#!pip install --upgrade pandas-profiling\n",
    "#!pip install scikit-learn"
   ]
  },
  {
   "cell_type": "code",
   "execution_count": 36,
   "id": "d0a227e8-d154-4d32-93ce-9b11b0d6effa",
   "metadata": {},
   "outputs": [
    {
     "name": "stdout",
     "output_type": "stream",
     "text": [
      "------------------------------\n",
      "df_shape: \t (38206, 9)\n",
      "------------------------------\n",
      "X_train: \t (28654, 8) \n",
      "y_train: \t (28654,)\n",
      "------------------------------\n",
      "X_test: \t (9552, 8) \n",
      "y_test: \t (9552,)\n"
     ]
    }
   ],
   "source": [
    "#Splitting and Dropping of Data & Columns for Machine Learning\n",
    "from sklearn.model_selection import train_test_split\n",
    "\n",
    "X = df_freight_null_columndrop.drop(columns = ['Freight Value'])\n",
    "y = df_freight_null_columndrop['Freight Value']\n",
    "\n",
    "X_train, X_test, y_train, y_test = train_test_split(X, y, random_state=10)\n",
    "\n",
    "print(dv)\n",
    "print(f'df_shape: \\t {df_freight_null_columndrop.shape}')\n",
    "\n",
    "print(dv)\n",
    "print(f'X_train: \\t {X_train.shape} \\ny_train: \\t {y_train.shape}')\n",
    "\n",
    "print(dv)\n",
    "print(f'X_test: \\t {X_test.shape} \\ny_test: \\t {y_test.shape}')"
   ]
  },
  {
   "cell_type": "code",
   "execution_count": 37,
   "id": "1afa634e-3b6c-43a0-8427-4b2ef89382c2",
   "metadata": {},
   "outputs": [],
   "source": [
    "validation_size = 0.15\n",
    "X_train, X_validation, y_train, y_validation = train_test_split(X_train, y_train, test_size=validation_size, random_state=10)\n"
   ]
  },
  {
   "cell_type": "code",
   "execution_count": 39,
   "id": "3fef1a73-4fdd-46cc-a9ad-0fdc8f29836d",
   "metadata": {},
   "outputs": [
    {
     "name": "stdout",
     "output_type": "stream",
     "text": [
      "------------------------------\n",
      "df_shape: \t (38206, 9)\n",
      "------------------------------\n",
      "X_validation: \t (4299, 8) \n",
      "y_validation: \t (4299,)\n",
      "------------------------------\n",
      "X_train: \t (24355, 8) \n",
      "y_train: \t (24355,)\n",
      "------------------------------\n",
      "X_test: \t (9552, 8) \n",
      "y_test: \t (9552,)\n"
     ]
    }
   ],
   "source": [
    "print(dv)\n",
    "print(f'df_shape: \\t {df_freight_null_columndrop.shape}')\n",
    "\n",
    "print(dv)\n",
    "print(f'X_validation: \\t {X_validation.shape} \\ny_validation: \\t {y_validation.shape}')\n",
    "\n",
    "print(dv)\n",
    "print(f'X_train: \\t {X_train.shape} \\ny_train: \\t {y_train.shape}')\n",
    "\n",
    "print(dv)\n",
    "print(f'X_test: \\t {X_test.shape} \\ny_test: \\t {y_test.shape}')"
   ]
  },
  {
   "cell_type": "markdown",
   "id": "69f8dbad-39b8-4941-8a6d-218f1863ccb0",
   "metadata": {},
   "source": [
    "# Cross Validation, Grid Search and Modeling"
   ]
  },
  {
   "cell_type": "markdown",
   "id": "2240a129-60cb-4aaf-bdeb-cfa35b176159",
   "metadata": {},
   "source": [
    "## CROSS VALIDATION"
   ]
  },
  {
   "cell_type": "markdown",
   "id": "df333738-7563-4835-bc38-39e25b6e6d1a",
   "metadata": {},
   "source": [
    "<table>\n",
    "  <tr>\n",
    "    <th colspan=\"2\">Regression Models to Cross-Validate</th>\n",
    "  </tr>\n",
    "  <tr>\n",
    "    <td>Linear Regression</td>\n",
    "    <td>K-Nearest Neighbors Regression (KNN)</td>\n",
    "  </tr>\n",
    "  <tr>\n",
    "    <td>Lasso Regression</td>\n",
    "    <td>Decision Tree Regression</td>\n",
    "  </tr>\n",
    "  <tr>\n",
    "    <td>Ridge Regression</td>\n",
    "    <td>XGBoost Regression</td>\n",
    "  </tr>\n",
    "  <tr>\n",
    "    <td>Gradient Boosting Regression</td>\n",
    "    <td></td>\n",
    "  </tr>\n",
    "  <tr>\n",
    "    <td>Random Forest Regression</td>\n",
    "    <td></td>\n",
    "  </tr>\n",
    "  <tr>\n",
    "    <td>Support Vector Regression (SVR)</td>\n",
    "    <td></td>\n",
    "  </tr>\n",
    "</table>\n"
   ]
  },
  {
   "cell_type": "code",
   "execution_count": 40,
   "id": "317f89b9-69b7-4069-8f3c-b90de295f6bf",
   "metadata": {},
   "outputs": [],
   "source": [
    "from sklearn.model_selection import cross_val_score\n",
    "from sklearn.metrics import mean_squared_error, mean_absolute_error, r2_score, explained_variance_score\n",
    "\n",
    "from sklearn.model_selection import cross_val_score\n",
    "from sklearn.linear_model import LinearRegression, Lasso, Ridge\n",
    "from sklearn.neighbors import KNeighborsRegressor\n",
    "from sklearn.tree import DecisionTreeRegressor\n",
    "from sklearn.ensemble import RandomForestRegressor, GradientBoostingRegressor\n",
    "from sklearn.svm import SVR\n",
    "from xgboost import XGBRegressor"
   ]
  },
  {
   "cell_type": "code",
   "execution_count": 41,
   "id": "0544fc64-769c-4082-9d74-6da6dd3f14ef",
   "metadata": {},
   "outputs": [
    {
     "name": "stdout",
     "output_type": "stream",
     "text": [
      "------------------------------\n",
      "Model: Linear Regression\n",
      "MSE Mean: 90.50\n",
      "MAE Mean: 5.23\n",
      "R2 Mean: 0.65\n",
      "Explained Variance Mean: 0.65\n",
      "\n",
      "------------------------------\n",
      "Model: Lasso Regression\n",
      "MSE Mean: 90.55\n",
      "MAE Mean: 5.21\n",
      "R2 Mean: 0.65\n",
      "Explained Variance Mean: 0.65\n",
      "\n",
      "------------------------------\n",
      "Model: Ridge Regression\n",
      "MSE Mean: 90.50\n",
      "MAE Mean: 5.23\n",
      "R2 Mean: 0.65\n",
      "Explained Variance Mean: 0.65\n",
      "\n",
      "------------------------------\n",
      "Model: KNN Regression\n",
      "MSE Mean: 115.71\n",
      "MAE Mean: 5.33\n",
      "R2 Mean: 0.55\n",
      "Explained Variance Mean: 0.55\n",
      "\n",
      "------------------------------\n",
      "Model: Decision Tree Regression\n",
      "MSE Mean: 127.70\n",
      "MAE Mean: 5.83\n",
      "R2 Mean: 0.49\n",
      "Explained Variance Mean: 0.48\n",
      "\n",
      "------------------------------\n",
      "Model: SVR\n",
      "MSE Mean: 165.02\n",
      "MAE Mean: 6.51\n",
      "R2 Mean: 0.36\n",
      "Explained Variance Mean: 0.37\n",
      "\n",
      "------------------------------\n",
      "Model: XGBoost Regression\n",
      "MSE Mean: 78.18\n",
      "MAE Mean: 4.40\n",
      "R2 Mean: 0.70\n",
      "Explained Variance Mean: 0.70\n",
      "\n",
      "------------------------------\n",
      "Model: Gradient Boosting Regression\n",
      "MSE Mean: 77.06\n",
      "MAE Mean: 4.59\n",
      "R2 Mean: 0.70\n",
      "Explained Variance Mean: 0.70\n",
      "\n",
      "------------------------------\n",
      "Model: Random Forest Regression\n",
      "MSE Mean: 74.00\n",
      "MAE Mean: 4.27\n",
      "R2 Mean: 0.71\n",
      "Explained Variance Mean: 0.72\n",
      "\n"
     ]
    }
   ],
   "source": [
    "models = {\n",
    "    'Linear Regression': LinearRegression(),\n",
    "    'Lasso Regression': Lasso(),\n",
    "    'Ridge Regression': Ridge(),\n",
    "    'KNN Regression': KNeighborsRegressor(),\n",
    "    'Decision Tree Regression': DecisionTreeRegressor(),\n",
    "    'SVR': SVR(),\n",
    "    'XGBoost Regression': XGBRegressor(),\n",
    "    'Gradient Boosting Regression': GradientBoostingRegressor(),\n",
    "    'Random Forest Regression': RandomForestRegressor()\n",
    "}\n",
    "\n",
    "# Loop over each model\n",
    "for name, model in models.items():\n",
    "    # Perform cross-validation with different scoring options\n",
    "    cv_scores_mse = cross_val_score(model, X_train, y_train, cv=5, scoring='neg_mean_squared_error')\n",
    "    cv_scores_mae = cross_val_score(model, X_train, y_train, cv=5, scoring='neg_mean_absolute_error')\n",
    "    cv_scores_r2 = cross_val_score(model, X_train, y_train, cv=5, scoring='r2')\n",
    "    cv_scores_explained_variance = cross_val_score(model, X_train, y_train, cv=5, scoring='explained_variance')\n",
    "    \n",
    "    # Calculate mean scores\n",
    "    mean_mse = -cv_scores_mse.mean()\n",
    "    mean_mae = -cv_scores_mae.mean()\n",
    "    mean_r2 = cv_scores_r2.mean()\n",
    "    mean_explained_variance = cv_scores_explained_variance.mean()\n",
    "    \n",
    "    # Print the mean scores for each model\n",
    "    print(dv)\n",
    "    print(f\"Model: {name}\")\n",
    "    print(f\"MSE Mean: {mean_mse:.2f}\")\n",
    "    print(f\"MAE Mean: {mean_mae:.2f}\")\n",
    "    print(f\"R2 Mean: {mean_r2:.2f}\")\n",
    "    print(f\"Explained Variance Mean: {mean_explained_variance:.2f}\\n\")\n"
   ]
  },
  {
   "cell_type": "markdown",
   "id": "d78311fa-9b9a-4345-9fca-1cc41269b72b",
   "metadata": {},
   "source": [
    "## HYPERPARAMETER TUNING"
   ]
  },
  {
   "cell_type": "code",
   "execution_count": 55,
   "id": "62b56934-97cf-4b57-b5d9-df3f0e660486",
   "metadata": {},
   "outputs": [
    {
     "name": "stdout",
     "output_type": "stream",
     "text": [
      "XGBoost Regression\n",
      "Best Score: 0.77\n",
      "Best Parameters: {'n_estimators': 200, 'max_depth': 5}\n",
      "\n",
      "Gradient Boosting Regression\n",
      "Best Score: 0.78\n",
      "Best Parameters: {'n_estimators': 300, 'max_depth': 5}\n",
      "\n",
      "Random Forest Regression\n",
      "Best Score: 0.72\n",
      "Best Parameters: {'n_estimators': 300, 'max_depth': 5}\n",
      "\n"
     ]
    }
   ],
   "source": [
    "from sklearn.model_selection import GridSearchCV\n",
    "from xgboost import XGBRegressor\n",
    "from sklearn.ensemble import GradientBoostingRegressor, RandomForestRegressor\n",
    "# Initialize variables to keep track of the best score and corresponding parameters\n",
    "best_score_xgb = 0\n",
    "best_params_xgb = None\n",
    "best_score_gb = 0\n",
    "best_params_gb = None\n",
    "best_score_rf = 0\n",
    "best_params_rf = None\n",
    "\n",
    "# Define the hyperparameter grids for each model\n",
    "param_grid_xgb = {\n",
    "    'n_estimators': [100, 200, 300],\n",
    "    'max_depth': [3, 4, 5],\n",
    "}\n",
    "\n",
    "param_grid_gb = {\n",
    "    'n_estimators': [100, 200, 300],\n",
    "    'max_depth': [3, 4, 5],\n",
    "}\n",
    "\n",
    "param_grid_rf = {\n",
    "    'n_estimators': [100, 200, 300],\n",
    "    'max_depth': [3, 4, 5],\n",
    "}\n",
    "\n",
    "for n_estimators in param_grid_xgb['n_estimators']:\n",
    "    for max_depth in param_grid_xgb['max_depth']:\n",
    "        regr = XGBRegressor(n_estimators=n_estimators, max_depth=max_depth)\n",
    "        regr.fit(X_train,y_train)\n",
    "        score = regr.score(X_validation,y_validation)\n",
    "\n",
    "        if score > best_score_xgb:\n",
    "            best_score_xgb = score\n",
    "            best_params_xgb = {'n_estimators':n_estimators, 'max_depth':max_depth}\n",
    "print(\"\"\"XGBoost Regression\n",
    "Best Score: {:.2f}\n",
    "Best Parameters: {}\n",
    "\"\"\".format(best_score_xgb, best_params_xgb))\n",
    "        \n",
    "for n_estimators in param_grid_gb['n_estimators']:\n",
    "    for max_depth in param_grid_gb['max_depth']:\n",
    "        regr = GradientBoostingRegressor(n_estimators=n_estimators, max_depth=max_depth)\n",
    "        regr.fit(X_train,y_train)\n",
    "        score = regr.score(X_validation,y_validation)\n",
    "\n",
    "        if score > best_score_gb:\n",
    "            best_score_gb = score\n",
    "            best_params_gb = {'n_estimators':n_estimators, 'max_depth':max_depth}\n",
    "print(\"\"\"Gradient Boosting Regression\n",
    "Best Score: {:.2f}\n",
    "Best Parameters: {}\n",
    "\"\"\".format(best_score_gb, best_params_gb))\n",
    "\n",
    "for n_estimators in param_grid_rf['n_estimators']:\n",
    "    for max_depth in param_grid_rf['max_depth']:\n",
    "        regr = RandomForestRegressor(n_estimators=n_estimators, max_depth=max_depth)\n",
    "        regr.fit(X_train,y_train)\n",
    "        score = regr.score(X_validation,y_validation)\n",
    "\n",
    "        if score > best_score_rf:\n",
    "            best_score_rf = score\n",
    "            best_params_rf = {'n_estimators':n_estimators, 'max_depth':max_depth}\n",
    "print(\"\"\"Random Forest Regression\n",
    "Best Score: {:.2f}\n",
    "Best Parameters: {}\n",
    "\"\"\".format(best_score_rf, best_params_rf))\n",
    "\n",
    "\n",
    "\n"
   ]
  },
  {
   "cell_type": "markdown",
   "id": "ce98788a-89cd-46c4-a13c-6c2b6d2d1f1f",
   "metadata": {},
   "source": [
    "## REGRESSION MODELING"
   ]
  },
  {
   "cell_type": "markdown",
   "id": "1fc584bd-68b8-43c8-8030-176f5e1c1210",
   "metadata": {},
   "source": [
    "### XGBoost Regression"
   ]
  },
  {
   "cell_type": "code",
   "execution_count": 56,
   "id": "4675dc24-d758-44ff-8896-6ee42865cd3b",
   "metadata": {},
   "outputs": [
    {
     "data": {
      "image/png": "[encoded data removed]",
      "text/plain": [
       "<Figure size 640x480 with 1 Axes>"
      ]
     },
     "metadata": {},
     "output_type": "display_data"
    }
   ],
   "source": [
    "import matplotlib.pyplot as plt\n",
    "\n",
    "xgb_reg = XGBRegressor(n_estimators=best_params_xgb['n_estimators'], max_depth=best_params_xgb['max_depth'])\n",
    "xgb_reg.fit(X_train,y_train)\n",
    "\n",
    "# Calculate the accuracy scores for the training and test sets\n",
    "xgb_train_score = xgb_reg.score(X_train, y_train)\n",
    "xgb_test_score = xgb_reg.score(X_test, y_test)\n",
    "\n",
    "# Model scores\n",
    "scores = [xgb_train_score, xgb_test_score]\n",
    "labels = ['Training', 'Testing']\n",
    "\n",
    "# Create the column chart\n",
    "plt.bar(labels, scores, color=['lightblue', 'lightgreen'])\n",
    "plt.ylabel('Accuracy Score')\n",
    "plt.title('XGBoost Regression')\n",
    "plt.yticks([])\n",
    "plt.ylim(0, 1.02)\n",
    "\n",
    "# Display the scores on the columns\n",
    "for i, score in enumerate(scores):\n",
    "    plt.text(i, score, f'{score:.2f}', ha='center', va='top', fontsize=12, color='black')\n",
    "\n",
    "plt.show()"
   ]
  },
  {
   "cell_type": "markdown",
   "id": "e528deac-19c3-47d9-8bad-63d0c0b7da07",
   "metadata": {},
   "source": [
    "### Gradient Boosting Regression"
   ]
  },
  {
   "cell_type": "code",
   "execution_count": 57,
   "id": "85dd3dae-193d-4fb8-8f7e-5122eef7e3b6",
   "metadata": {},
   "outputs": [
    {
     "data": {
      "image/png": "[encoded data removed]",
      "text/plain": [
       "<Figure size 640x480 with 1 Axes>"
      ]
     },
     "metadata": {},
     "output_type": "display_data"
    }
   ],
   "source": [
    "gb_reg = GradientBoostingRegressor(n_estimators=best_params_gb['n_estimators'], max_depth=best_params_gb['max_depth'])\n",
    "gb_reg.fit(X_train,y_train)\n",
    "\n",
    "# Calculate the accuracy scores for the training and test sets\n",
    "gb_train_score = gb_reg.score(X_train, y_train)\n",
    "gb_test_score = gb_reg.score(X_test, y_test)\n",
    "\n",
    "# Model scores\n",
    "scores = [gb_train_score, gb_test_score]\n",
    "labels = ['Training', 'Testing']\n",
    "\n",
    "# Create the column chart\n",
    "plt.bar(labels, scores, color=['lightblue', 'lightgreen'])\n",
    "plt.ylabel('Accuracy Score')\n",
    "plt.title('Gradient Boosting Regression')\n",
    "plt.yticks([])\n",
    "plt.ylim(0, 1.02)\n",
    "\n",
    "# Display the scores on the columns\n",
    "for i, score in enumerate(scores):\n",
    "    plt.text(i, score, f'{score:.2f}', ha='center', va='top', fontsize=12, color='black')\n",
    "\n",
    "plt.show()"
   ]
  },
  {
   "cell_type": "markdown",
   "id": "1768c699-c1ad-4ed7-bbbc-f84c99af3ede",
   "metadata": {},
   "source": [
    "### Random Forest Regression"
   ]
  },
  {
   "cell_type": "code",
   "execution_count": 58,
   "id": "83f94e58-5d49-4aab-bade-cb5553d836ee",
   "metadata": {},
   "outputs": [
    {
     "data": {
      "image/png": "[encoded data removed]",
      "text/plain": [
       "<Figure size 640x480 with 1 Axes>"
      ]
     },
     "metadata": {},
     "output_type": "display_data"
    }
   ],
   "source": [
    "rf_reg = RandomForestRegressor(n_estimators=best_params_rf['n_estimators'], max_depth=best_params_rf['max_depth'])\n",
    "rf_reg.fit(X_train,y_train)\n",
    "\n",
    "# Calculate the accuracy scores for the training and test sets\n",
    "rf_train_score = rf_reg.score(X_train, y_train)\n",
    "rf_test_score = rf_reg.score(X_test, y_test)\n",
    "\n",
    "# Model scores\n",
    "scores = [rf_train_score, rf_test_score]\n",
    "labels = ['Training', 'Testing']\n",
    "\n",
    "# Create the column chart\n",
    "plt.bar(labels, scores, color=['lightblue', 'lightgreen'])\n",
    "plt.ylabel('Accuracy Score')\n",
    "plt.title('Random Forest Regression')\n",
    "plt.yticks([])\n",
    "plt.ylim(0, 1.02)\n",
    "\n",
    "# Display the scores on the columns\n",
    "for i, score in enumerate(scores):\n",
    "    plt.text(i, score, f'{score:.2f}', ha='center', va='top', fontsize=12, color='black')\n",
    "\n",
    "plt.show()"
   ]
  },
  {
   "cell_type": "markdown",
   "id": "02dcefc4-1c4d-4a96-bb85-3ac4263773b2",
   "metadata": {},
   "source": [
    "# Evaluation Metrics - MSE, MAE, R2 & Explained Variance"
   ]
  },
  {
   "cell_type": "markdown",
   "id": "1ef2a640-dd1a-461d-a434-3c949bad0eea",
   "metadata": {},
   "source": [
    "## MEAN SQUARED ERROR (MSE)"
   ]
  },
  {
   "cell_type": "code",
   "execution_count": 59,
   "id": "4f75a21d-668a-4e0d-a297-b709a7d5e4f9",
   "metadata": {},
   "outputs": [
    {
     "data": {
      "image/png": "[encoded data removed]",
      "text/plain": [
       "<Figure size 1000x600 with 1 Axes>"
      ]
     },
     "metadata": {},
     "output_type": "display_data"
    }
   ],
   "source": [
    "mse_XGB = mean_squared_error(y_test, xgb_reg.predict(X_test))\n",
    "mse_GB = mean_squared_error(y_test, gb_reg.predict(X_test))\n",
    "mse_RF = mean_squared_error(y_test, rf_reg.predict(X_test))\n",
    "\n",
    "# Find the model with the highest ROC-AUC score\n",
    "model = np.array([\n",
    "    ['XGBoost Regression', mse_XGB],\n",
    "    ['Gradient Boosting', mse_GB],\n",
    "    ['Random Forest', mse_RF],\n",
    "\n",
    "])\n",
    "\n",
    "# Extract model names and accuracy scores\n",
    "model_names = model[:, 0]\n",
    "accuracy_scores = model[:, 1].astype(float)\n",
    "\n",
    "# Sort the data based on accuracy scores in descending order\n",
    "sorted_indices = np.argsort(accuracy_scores)[::-1]\n",
    "model_names = model_names[sorted_indices]\n",
    "accuracy_scores = accuracy_scores[sorted_indices]\n",
    "\n",
    "# Create the bar chart\n",
    "plt.figure(figsize=(10, 6))\n",
    "plt.barh(model_names, accuracy_scores, color= 'Yellow')\n",
    "plt.xlabel('MEAN SQUARED ERROR (MSE)')\n",
    "plt.title('MSE for Different Models (Sorted)')\n",
    "plt.grid(axis='x', linestyle=' ', alpha=0.6)\n",
    "\n",
    "# Display the accuracy scores on the bars\n",
    "for i, accuracy in enumerate(accuracy_scores):\n",
    "    plt.text(accuracy, i, f'{accuracy:.2f}', va='center', fontsize=12, color='black')\n",
    "\n",
    "plt.show()\n"
   ]
  },
  {
   "cell_type": "markdown",
   "id": "15d5fe33-6122-4244-99b3-c3b38c84a28c",
   "metadata": {},
   "source": [
    "## MEAN ABSOLUTE ERROR (MAE)"
   ]
  },
  {
   "cell_type": "code",
   "execution_count": 60,
   "id": "649d9ca7-6c41-4122-8af5-2dc9653fb77e",
   "metadata": {},
   "outputs": [
    {
     "data": {
      "image/png": "[encoded data removed]",
      "text/plain": [
       "<Figure size 1000x600 with 1 Axes>"
      ]
     },
     "metadata": {},
     "output_type": "display_data"
    }
   ],
   "source": [
    "mae_XGB = mean_absolute_error(y_test, xgb_reg.predict(X_test))\n",
    "mae_GB = mean_absolute_error(y_test, gb_reg.predict(X_test))\n",
    "mae_RF = mean_absolute_error(y_test, rf_reg.predict(X_test))\n",
    "\n",
    "# Find the model with the highest ROC-AUC score\n",
    "model = np.array([\n",
    "    ['XGBoost Regression', mae_XGB],\n",
    "    ['Gradient Boosting', mae_GB],\n",
    "    ['Random Forest', mae_RF],\n",
    "\n",
    "])\n",
    "\n",
    "# Extract model names and accuracy scores\n",
    "model_names = model[:, 0]\n",
    "accuracy_scores = model[:, 1].astype(float)\n",
    "\n",
    "# Sort the data based on accuracy scores in descending order\n",
    "sorted_indices = np.argsort(accuracy_scores)[::-1]\n",
    "model_names = model_names[sorted_indices]\n",
    "accuracy_scores = accuracy_scores[sorted_indices]\n",
    "\n",
    "# Create the bar chart\n",
    "plt.figure(figsize=(10, 6))\n",
    "plt.barh(model_names, accuracy_scores, color= 'Yellow')\n",
    "plt.xlabel('MEAN ABSOLUTE ERROR (MSE)')\n",
    "plt.title('MAE for Different Models (Sorted)')\n",
    "plt.grid(axis='x', linestyle=' ', alpha=0.6)\n",
    "\n",
    "# Display the accuracy scores on the bars\n",
    "for i, accuracy in enumerate(accuracy_scores):\n",
    "    plt.text(accuracy, i, f'{accuracy:.2f}', va='center', fontsize=12, color='black')\n",
    "\n",
    "plt.show()\n"
   ]
  },
  {
   "cell_type": "markdown",
   "id": "a6daf26b-e15f-4099-8556-0430a8ed9cb7",
   "metadata": {},
   "source": [
    "## R-SQUARED (R2)"
   ]
  },
  {
   "cell_type": "code",
   "execution_count": 61,
   "id": "2c532b91-6247-4936-87d6-885817a6ab63",
   "metadata": {},
   "outputs": [
    {
     "data": {
      "image/png": "[encoded data removed]",
      "text/plain": [
       "<Figure size 1000x600 with 1 Axes>"
      ]
     },
     "metadata": {},
     "output_type": "display_data"
    }
   ],
   "source": [
    "r2_XGB = r2_score(y_test, xgb_reg.predict(X_test))\n",
    "r2_GB = r2_score(y_test, gb_reg.predict(X_test))\n",
    "r2_RF = r2_score(y_test, rf_reg.predict(X_test))\n",
    "\n",
    "# Find the model with the highest ROC-AUC score\n",
    "model = np.array([\n",
    "    ['XGBoost Regression', r2_XGB],\n",
    "    ['Gradient Boosting', r2_GB],\n",
    "    ['Random Forest', r2_RF],\n",
    "\n",
    "])\n",
    "\n",
    "# Extract model names and accuracy scores\n",
    "model_names = model[:, 0]\n",
    "accuracy_scores = model[:, 1].astype(float)\n",
    "\n",
    "# Sort the data based on accuracy scores in descending order\n",
    "sorted_indices = np.argsort(accuracy_scores)[::-1]\n",
    "model_names = model_names[sorted_indices]\n",
    "accuracy_scores = accuracy_scores[sorted_indices]\n",
    "\n",
    "# Create the bar chart\n",
    "plt.figure(figsize=(10, 6))\n",
    "plt.barh(model_names, accuracy_scores, color= 'Yellow')\n",
    "plt.xlabel('R-SQUARED (R2)')\n",
    "plt.title('R2 for Different Models (Sorted)')\n",
    "plt.grid(axis='x', linestyle=' ', alpha=0.6)\n",
    "\n",
    "# Display the accuracy scores on the bars\n",
    "for i, accuracy in enumerate(accuracy_scores):\n",
    "    plt.text(accuracy, i, f'{accuracy:.2f}', va='center', fontsize=12, color='black')\n",
    "\n",
    "plt.show()\n"
   ]
  },
  {
   "cell_type": "markdown",
   "id": "f227ce80-1101-4073-be73-934c2a41e7ee",
   "metadata": {},
   "source": [
    "## EXPLAINED VARIANCE"
   ]
  },
  {
   "cell_type": "code",
   "execution_count": 62,
   "id": "84ae2939-c666-4cbd-9ccd-2969cb42ee68",
   "metadata": {},
   "outputs": [
    {
     "data": {
      "image/png": "[encoded data removed]",
      "text/plain": [
       "<Figure size 1000x600 with 1 Axes>"
      ]
     },
     "metadata": {},
     "output_type": "display_data"
    }
   ],
   "source": [
    "var_XGB = explained_variance_score(y_test, xgb_reg.predict(X_test))\n",
    "var_GB = explained_variance_score(y_test, gb_reg.predict(X_test))\n",
    "var_RF = explained_variance_score(y_test, rf_reg.predict(X_test))\n",
    "\n",
    "# Find the model with the highest ROC-AUC score\n",
    "model = np.array([\n",
    "    ['XGBoost Regression', var_XGB],\n",
    "    ['Gradient Boosting', var_GB],\n",
    "    ['Random Forest', var_RF],\n",
    "\n",
    "])\n",
    "\n",
    "# Extract model names and accuracy scores\n",
    "model_names = model[:, 0]\n",
    "accuracy_scores = model[:, 1].astype(float)\n",
    "\n",
    "# Sort the data based on accuracy scores in descending order\n",
    "sorted_indices = np.argsort(accuracy_scores)[::-1]\n",
    "model_names = model_names[sorted_indices]\n",
    "accuracy_scores = accuracy_scores[sorted_indices]\n",
    "\n",
    "# Create the bar chart\n",
    "plt.figure(figsize=(10, 6))\n",
    "plt.barh(model_names, accuracy_scores, color= 'Yellow')\n",
    "plt.xlabel('EXPLAINED VARIANCE')\n",
    "plt.title('Explained Variance Score for Different Models (Sorted)')\n",
    "plt.grid(axis='x', linestyle=' ', alpha=0.6)\n",
    "\n",
    "# Display the accuracy scores on the bars\n",
    "for i, accuracy in enumerate(accuracy_scores):\n",
    "    plt.text(accuracy, i, f'{accuracy:.2f}', va='center', fontsize=12, color='black')\n",
    "\n",
    "plt.show()"
   ]
  },
  {
   "cell_type": "markdown",
   "id": "29609dcb-1525-4490-9e7d-ca092e51cb97",
   "metadata": {},
   "source": [
    "# CONCLUSION"
   ]
  },
  {
   "cell_type": "markdown",
   "id": "742d0470-0617-48eb-ad67-8b9696aaac0a",
   "metadata": {},
   "source": [
    "### Findings:"
   ]
  },
  {
   "cell_type": "markdown",
   "id": "66d62ee9-7b72-4eb5-8c37-68d46e4e53f0",
   "metadata": {},
   "source": [
    "\n",
    "<p>Upon comprehensive analysis of the evaluation metrics, it is evident that both the XGBoost and Gradient Boosting algorithms have demonstrated superior performance compared to the Random Forest model across multiple criteria.</p>\n",
    "\n",
    "<p>• XGBoost (XGB) and Gradient Boosting (GB) exhibit lower Mean Squared Error (MSE) values compared to Random Forest (RF), with XGBoost at 71.26 and Gradient Boosting at 72.74, outperforming Random Forest's 87.33.</p>\n",
    "<p>• In terms of Mean Absolute Error (MAE), XGBoost and Gradient Boosting also demonstrate superior performance, with XGBoost registering 4.27 and Gradient Boosting at 4.34, compared to Random Forest's 4.97.</p>\n",
    "<p>• Both XGBoost and Gradient Boosting achieve higher R2 scores (0.71) compared to Random Forest (0.72), indicating better overall fit of the models to the data.</p>\n",
    "<p>• The Explained Variance for XGBoost and Gradient Boosting stands at 0.71, while Random Forest lags behind at 0.72.</p>\n",
    "<p>Overall, based on the lower MSE and MAE, higher R2 score, and Explained Variance, XGBoost and Gradient Boosting models perform better compared to Random Forest. </p>"
   ]
  },
  {
   "cell_type": "code",
   "execution_count": null,
   "id": "ecffe41b-6295-4f65-aa71-ab8cc4219e94",
   "metadata": {},
   "outputs": [],
   "source": []
  }
 ],
 "metadata": {
  "kernelspec": {
   "display_name": "Python 3 (ipykernel)",
   "language": "python",
   "name": "python3"
  },
  "language_info": {
   "codemirror_mode": {
    "name": "ipython",
    "version": 3
   },
   "file_extension": ".py",
   "mimetype": "text/x-python",
   "name": "python",
   "nbconvert_exporter": "python",
   "pygments_lexer": "ipython3",
   "version": "3.11.5"
  }
 },
 "nbformat": 4,
 "nbformat_minor": 5
}

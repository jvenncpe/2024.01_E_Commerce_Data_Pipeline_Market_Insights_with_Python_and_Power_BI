{
 "cells": [
  {
   "cell_type": "markdown",
   "id": "78304f8e-3975-4cdc-b936-29db3e15b7db",
   "metadata": {},
   "source": [
    "# Connect and Extract Data from SQL Server"
   ]
  },
  {
   "cell_type": "code",
   "execution_count": 1,
   "id": "fa874381-d401-43eb-bd62-84a220d7a546",
   "metadata": {},
   "outputs": [
    {
     "name": "stdout",
     "output_type": "stream",
     "text": [
      "['SQL Server', 'Microsoft Access Driver (*.mdb, *.accdb)', 'Microsoft Excel Driver (*.xls, *.xlsx, *.xlsm, *.xlsb)', 'Microsoft Access Text Driver (*.txt, *.csv)', 'ODBC Driver 17 for SQL Server', 'SQL Server Native Client RDA 11.0', 'SQL Server Native Client RDA 11.0']\n"
     ]
    }
   ],
   "source": [
    "import pypyodbc as odbc #!pip install pypyodbc\n",
    "import pandas as pd\n",
    "import numpy as np\n",
    "import time\n",
    "import os\n",
    "\n",
    "print(odbc.drivers())"
   ]
  },
  {
   "cell_type": "code",
   "execution_count": 2,
   "id": "2fb8b045-50dd-4bc0-a71e-265a57e0beb9",
   "metadata": {},
   "outputs": [],
   "source": [
    "driverName = \"SQL Server\" \n",
    "serverName = \"DESKTOP-UVMKETP\\SQLEXPRESS\"\n",
    "dataBaseName = \"SQL_PowerBI_Test\"\n",
    "username = \"jvenncpe\"\n",
    "pwd = \"#Juv1994*\"\n",
    "\n",
    "dv = \"------------------------------\""
   ]
  },
  {
   "cell_type": "code",
   "execution_count": 3,
   "id": "eb11d0de-421a-4abc-8d14-d6856b5da302",
   "metadata": {},
   "outputs": [],
   "source": [
    "def updateSQL():\n",
    "    try:\n",
    "        conn.commit()\n",
    "        return print(\"SQL Updated Successfully!\")\n",
    "        \n",
    "    except Exception as e:\n",
    "        return print(f\"Error occurred: {e}\")"
   ]
  },
  {
   "cell_type": "code",
   "execution_count": 4,
   "id": "3fe9508b-1f18-4142-b5ba-4e0d25fb0b62",
   "metadata": {},
   "outputs": [],
   "source": [
    "def createFreightQuery():\n",
    "    freight_query = f\"\"\"\n",
    "    WITH\n",
    "    CLEAN_products_category_items AS\n",
    "    (\n",
    "    SELECT \n",
    "        REPLACE(t1.product_id,'\"','') AS product_id\n",
    "        , t1.product_height_cm\n",
    "        , t1.product_length_cm\n",
    "        , t1.product_weight_g\n",
    "        , t1.product_width_cm\n",
    "        , t3.freight_value\n",
    "        , t3.price\n",
    "        , t3.[ï»¿order_id]\n",
    "    FROM\n",
    "        SQL_PowerBI_Test.dbo.olist_products_dataset AS t1\n",
    "    \n",
    "    LEFT JOIN [product_category_name_translation] AS t2 ON t1.product_category_name = t2.[ï»¿product_category_name]\n",
    "    LEFT JOIN [olist_order_items_dataset] AS t3 ON t1.product_id = t3.product_id\n",
    "    ),\n",
    "    \n",
    "    CLEAN_orders_customers_dataset AS\n",
    "    (\n",
    "    SELECT\n",
    "        t1.[order_id]\n",
    "        , t1.[customer_id]\n",
    "        , t2.customer_city\n",
    "        , t2.customer_state\n",
    "        , t2.customer_zip_code_prefix\n",
    "    FROM [SQL_PowerBI_Test].[dbo].[olist_orders_dataset] as t1\n",
    "    \n",
    "    LEFT JOIN [olist_customers_dataset] AS t2 ON t1.customer_id = t2.customer_id\n",
    "    ),\n",
    "    \n",
    "    MERGE_allNeeded AS\n",
    "    (\n",
    "    SELECT\n",
    "        *\n",
    "    FROM CLEAN_products_category_items AS t1\n",
    "    LEFT JOIN CLEAN_orders_customers_dataset AS t2 ON t1.[ï»¿order_id] = t2.order_id\n",
    "    )\n",
    "    \n",
    "    SELECT * FROM MERGE_allNeeded\n",
    "\n",
    "    \"\"\"\n",
    "    return freight_query"
   ]
  },
  {
   "cell_type": "code",
   "execution_count": 5,
   "id": "7f915919-b4d5-40d9-ac3e-1d5b432d51f7",
   "metadata": {},
   "outputs": [
    {
     "name": "stdout",
     "output_type": "stream",
     "text": [
      "Connection successful!\n"
     ]
    }
   ],
   "source": [
    "connection_string = f\"\"\"\n",
    "    DRIVER={{{driverName}}};\n",
    "    SERVER={serverName};\n",
    "    DATABASE={dataBaseName};\n",
    "    Trust_Connection=yes;\n",
    "    UID={username};\n",
    "    PWD={pwd};\n",
    "\"\"\"\n",
    "try:\n",
    "    conn = odbc.connect(connection_string)\n",
    "    cursor = conn.cursor()\n",
    "    print(\"Connection successful!\")\n",
    "\n",
    "except Exception as e:\n",
    "    print(f\"Error: {e}\")"
   ]
  },
  {
   "cell_type": "code",
   "execution_count": 6,
   "id": "64ee5553-a49f-45b6-88b0-6c7f1c3254d5",
   "metadata": {},
   "outputs": [],
   "source": [
    "cursor = conn.cursor()\n",
    "\n",
    "try:\n",
    "    with cursor:\n",
    "        cursor.execute(createFreightQuery())\n",
    "        freight_query = cursor.fetchall()\n",
    "except Exception as e:\n",
    "    print(e)\n",
    "    conn.rollback()\n",
    "    print('Transaction rollback')\n",
    "finally:\n",
    "    if conn is not None:\n",
    "        conn.close()"
   ]
  },
  {
   "cell_type": "code",
   "execution_count": 7,
   "id": "6c0724e6-62df-4565-a4bb-08d667d27bcf",
   "metadata": {},
   "outputs": [
    {
     "data": {
      "text/html": [
       "<div>\n",
       "<style scoped>\n",
       "    .dataframe tbody tr th:only-of-type {\n",
       "        vertical-align: middle;\n",
       "    }\n",
       "\n",
       "    .dataframe tbody tr th {\n",
       "        vertical-align: top;\n",
       "    }\n",
       "\n",
       "    .dataframe thead th {\n",
       "        text-align: right;\n",
       "    }\n",
       "</style>\n",
       "<table border=\"1\" class=\"dataframe\">\n",
       "  <thead>\n",
       "    <tr style=\"text-align: right;\">\n",
       "      <th></th>\n",
       "      <th>0</th>\n",
       "      <th>1</th>\n",
       "      <th>2</th>\n",
       "      <th>3</th>\n",
       "      <th>4</th>\n",
       "      <th>5</th>\n",
       "      <th>6</th>\n",
       "      <th>7</th>\n",
       "      <th>8</th>\n",
       "      <th>9</th>\n",
       "      <th>10</th>\n",
       "      <th>11</th>\n",
       "      <th>12</th>\n",
       "    </tr>\n",
       "  </thead>\n",
       "  <tbody>\n",
       "    <tr>\n",
       "      <th>0</th>\n",
       "      <td>00066f42aeeb9f3007548bb9d3f33c38</td>\n",
       "      <td>16</td>\n",
       "      <td>20</td>\n",
       "      <td>300</td>\n",
       "      <td>16</td>\n",
       "      <td>None</td>\n",
       "      <td>None</td>\n",
       "      <td>None</td>\n",
       "      <td>None</td>\n",
       "      <td>None</td>\n",
       "      <td>None</td>\n",
       "      <td>None</td>\n",
       "      <td>None</td>\n",
       "    </tr>\n",
       "    <tr>\n",
       "      <th>1</th>\n",
       "      <td>00088930e925c41fd95ebfe695fd2655</td>\n",
       "      <td>10</td>\n",
       "      <td>55</td>\n",
       "      <td>1225</td>\n",
       "      <td>26</td>\n",
       "      <td>None</td>\n",
       "      <td>None</td>\n",
       "      <td>None</td>\n",
       "      <td>None</td>\n",
       "      <td>None</td>\n",
       "      <td>None</td>\n",
       "      <td>None</td>\n",
       "      <td>None</td>\n",
       "    </tr>\n",
       "    <tr>\n",
       "      <th>2</th>\n",
       "      <td>0009406fd7479715e4bef61dd91f2462</td>\n",
       "      <td>15</td>\n",
       "      <td>45</td>\n",
       "      <td>300</td>\n",
       "      <td>35</td>\n",
       "      <td>None</td>\n",
       "      <td>None</td>\n",
       "      <td>None</td>\n",
       "      <td>None</td>\n",
       "      <td>None</td>\n",
       "      <td>None</td>\n",
       "      <td>None</td>\n",
       "      <td>None</td>\n",
       "    </tr>\n",
       "    <tr>\n",
       "      <th>3</th>\n",
       "      <td>000b8f95fcb9e0096488278317764d19</td>\n",
       "      <td>24</td>\n",
       "      <td>19</td>\n",
       "      <td>550</td>\n",
       "      <td>12</td>\n",
       "      <td>None</td>\n",
       "      <td>None</td>\n",
       "      <td>None</td>\n",
       "      <td>None</td>\n",
       "      <td>None</td>\n",
       "      <td>None</td>\n",
       "      <td>None</td>\n",
       "      <td>None</td>\n",
       "    </tr>\n",
       "    <tr>\n",
       "      <th>4</th>\n",
       "      <td>000d9be29b5207b54e86aa1b1ac54872</td>\n",
       "      <td>11</td>\n",
       "      <td>22</td>\n",
       "      <td>250</td>\n",
       "      <td>15</td>\n",
       "      <td>None</td>\n",
       "      <td>None</td>\n",
       "      <td>None</td>\n",
       "      <td>None</td>\n",
       "      <td>None</td>\n",
       "      <td>None</td>\n",
       "      <td>None</td>\n",
       "      <td>None</td>\n",
       "    </tr>\n",
       "    <tr>\n",
       "      <th>...</th>\n",
       "      <td>...</td>\n",
       "      <td>...</td>\n",
       "      <td>...</td>\n",
       "      <td>...</td>\n",
       "      <td>...</td>\n",
       "      <td>...</td>\n",
       "      <td>...</td>\n",
       "      <td>...</td>\n",
       "      <td>...</td>\n",
       "      <td>...</td>\n",
       "      <td>...</td>\n",
       "      <td>...</td>\n",
       "      <td>...</td>\n",
       "    </tr>\n",
       "    <tr>\n",
       "      <th>62693</th>\n",
       "      <td>bee2e070c39f3dd2f6883a17a5f0da45</td>\n",
       "      <td>20</td>\n",
       "      <td>20</td>\n",
       "      <td>175</td>\n",
       "      <td>20</td>\n",
       "      <td>48.14\\r</td>\n",
       "      <td>180</td>\n",
       "      <td>fff8287bbae429a99bb7e8c21d151c41</td>\n",
       "      <td>fff8287bbae429a99bb7e8c21d151c41</td>\n",
       "      <td>6c1e92a209dbf868706caa831090941e</td>\n",
       "      <td>joao pessoa</td>\n",
       "      <td>PB</td>\n",
       "      <td>58075</td>\n",
       "    </tr>\n",
       "    <tr>\n",
       "      <th>62694</th>\n",
       "      <td>bee2e070c39f3dd2f6883a17a5f0da45</td>\n",
       "      <td>20</td>\n",
       "      <td>20</td>\n",
       "      <td>175</td>\n",
       "      <td>20</td>\n",
       "      <td>48.14\\r</td>\n",
       "      <td>180</td>\n",
       "      <td>fff8287bbae429a99bb7e8c21d151c41</td>\n",
       "      <td>fff8287bbae429a99bb7e8c21d151c41</td>\n",
       "      <td>6c1e92a209dbf868706caa831090941e</td>\n",
       "      <td>joao pessoa</td>\n",
       "      <td>PB</td>\n",
       "      <td>58075</td>\n",
       "    </tr>\n",
       "    <tr>\n",
       "      <th>62695</th>\n",
       "      <td>bbe7651fef80287a816ead73f065fc4b</td>\n",
       "      <td>15</td>\n",
       "      <td>60</td>\n",
       "      <td>2700</td>\n",
       "      <td>15</td>\n",
       "      <td>44.02\\r</td>\n",
       "      <td>229.9</td>\n",
       "      <td>fffa82886406ccf10c7b4e35c4ff2788</td>\n",
       "      <td>fffa82886406ccf10c7b4e35c4ff2788</td>\n",
       "      <td>a5201e1a6d71a8d21e869151bd5b4085</td>\n",
       "      <td>tenente ananias</td>\n",
       "      <td>RN</td>\n",
       "      <td>59955</td>\n",
       "    </tr>\n",
       "    <tr>\n",
       "      <th>62696</th>\n",
       "      <td>e7be84ea9462aac5e2b0b08eb35ba7f1</td>\n",
       "      <td>16</td>\n",
       "      <td>60</td>\n",
       "      <td>100</td>\n",
       "      <td>11</td>\n",
       "      <td>10.96\\r</td>\n",
       "      <td>4.9</td>\n",
       "      <td>fffb0b1a50e65c449020434fa835e078</td>\n",
       "      <td>fffb0b1a50e65c449020434fa835e078</td>\n",
       "      <td>46b385c6d972b73cbcf797a8b16c072d</td>\n",
       "      <td>campinas</td>\n",
       "      <td>SP</td>\n",
       "      <td>13083</td>\n",
       "    </tr>\n",
       "    <tr>\n",
       "      <th>62697</th>\n",
       "      <td>ebceb9726cf5c6187b48e17fe58747b0</td>\n",
       "      <td>5</td>\n",
       "      <td>25</td>\n",
       "      <td>200</td>\n",
       "      <td>18</td>\n",
       "      <td>22.06\\r</td>\n",
       "      <td>17.9</td>\n",
       "      <td>fffb2ef8874127f75b52b643880fd7e0</td>\n",
       "      <td>fffb2ef8874127f75b52b643880fd7e0</td>\n",
       "      <td>ca8374c00203cec663bc1eabf0aaede4</td>\n",
       "      <td>cordeiro</td>\n",
       "      <td>RJ</td>\n",
       "      <td>28540</td>\n",
       "    </tr>\n",
       "  </tbody>\n",
       "</table>\n",
       "<p>62698 rows × 13 columns</p>\n",
       "</div>"
      ],
      "text/plain": [
       "                                     0   1   2     3   4        5      6   \\\n",
       "0      00066f42aeeb9f3007548bb9d3f33c38  16  20   300  16     None   None   \n",
       "1      00088930e925c41fd95ebfe695fd2655  10  55  1225  26     None   None   \n",
       "2      0009406fd7479715e4bef61dd91f2462  15  45   300  35     None   None   \n",
       "3      000b8f95fcb9e0096488278317764d19  24  19   550  12     None   None   \n",
       "4      000d9be29b5207b54e86aa1b1ac54872  11  22   250  15     None   None   \n",
       "...                                 ...  ..  ..   ...  ..      ...    ...   \n",
       "62693  bee2e070c39f3dd2f6883a17a5f0da45  20  20   175  20  48.14\\r    180   \n",
       "62694  bee2e070c39f3dd2f6883a17a5f0da45  20  20   175  20  48.14\\r    180   \n",
       "62695  bbe7651fef80287a816ead73f065fc4b  15  60  2700  15  44.02\\r  229.9   \n",
       "62696  e7be84ea9462aac5e2b0b08eb35ba7f1  16  60   100  11  10.96\\r    4.9   \n",
       "62697  ebceb9726cf5c6187b48e17fe58747b0   5  25   200  18  22.06\\r   17.9   \n",
       "\n",
       "                                     7                                 8   \\\n",
       "0                                  None                              None   \n",
       "1                                  None                              None   \n",
       "2                                  None                              None   \n",
       "3                                  None                              None   \n",
       "4                                  None                              None   \n",
       "...                                 ...                               ...   \n",
       "62693  fff8287bbae429a99bb7e8c21d151c41  fff8287bbae429a99bb7e8c21d151c41   \n",
       "62694  fff8287bbae429a99bb7e8c21d151c41  fff8287bbae429a99bb7e8c21d151c41   \n",
       "62695  fffa82886406ccf10c7b4e35c4ff2788  fffa82886406ccf10c7b4e35c4ff2788   \n",
       "62696  fffb0b1a50e65c449020434fa835e078  fffb0b1a50e65c449020434fa835e078   \n",
       "62697  fffb2ef8874127f75b52b643880fd7e0  fffb2ef8874127f75b52b643880fd7e0   \n",
       "\n",
       "                                     9                10    11     12  \n",
       "0                                  None             None  None   None  \n",
       "1                                  None             None  None   None  \n",
       "2                                  None             None  None   None  \n",
       "3                                  None             None  None   None  \n",
       "4                                  None             None  None   None  \n",
       "...                                 ...              ...   ...    ...  \n",
       "62693  6c1e92a209dbf868706caa831090941e      joao pessoa    PB  58075  \n",
       "62694  6c1e92a209dbf868706caa831090941e      joao pessoa    PB  58075  \n",
       "62695  a5201e1a6d71a8d21e869151bd5b4085  tenente ananias    RN  59955  \n",
       "62696  46b385c6d972b73cbcf797a8b16c072d         campinas    SP  13083  \n",
       "62697  ca8374c00203cec663bc1eabf0aaede4         cordeiro    RJ  28540  \n",
       "\n",
       "[62698 rows x 13 columns]"
      ]
     },
     "metadata": {},
     "output_type": "display_data"
    }
   ],
   "source": [
    "df_freight = pd.DataFrame(freight_query)\n",
    "display(df_freight)"
   ]
  },
  {
   "cell_type": "markdown",
   "id": "4f897100-b5af-4ac2-9018-25ade1079aea",
   "metadata": {},
   "source": [
    "# Data Exploration, Cleaning and Analysis"
   ]
  },
  {
   "cell_type": "code",
   "execution_count": 8,
   "id": "2ef49528-ea75-4867-a4d4-8f06db3e778d",
   "metadata": {},
   "outputs": [
    {
     "data": {
      "text/plain": [
       "Index(['Product Id', 'Product Height (cm)', 'Product Length (cm)',\n",
       "       'Product Weight (g)', 'Product Width (cm)', 'Freight Value',\n",
       "       'Price ($)', 'Order ID', 'Order ID', 'Customer ID', 'Customer City',\n",
       "       'Customer State', 'Customer Zip Code Prefix'],\n",
       "      dtype='object')"
      ]
     },
     "execution_count": 8,
     "metadata": {},
     "output_type": "execute_result"
    }
   ],
   "source": [
    "replace_columnNames = \\\n",
    "[\"Product Id\",\n",
    "\"Product Height (cm)\",\n",
    "\"Product Length (cm)\",\n",
    "\"Product Weight (g)\",\n",
    "\"Product Width (cm)\",\n",
    "\"Freight Value\",\n",
    "\"Price ($)\",\n",
    "\"Order ID\",\n",
    "\"Order ID\",\n",
    "\"Customer ID\",\n",
    "\"Customer City\",\n",
    "\"Customer State\",\n",
    "\"Customer Zip Code Prefix\"]\n",
    "\n",
    "df_freight.columns = replace_columnNames\n",
    "df_freight.columns"
   ]
  },
  {
   "cell_type": "code",
   "execution_count": 9,
   "id": "54643e53-f1c2-4ff6-b7c2-73dfdc351a20",
   "metadata": {},
   "outputs": [
    {
     "data": {
      "text/plain": [
       "Product Id                      0\n",
       "Product Height (cm)             2\n",
       "Product Length (cm)             2\n",
       "Product Weight (g)              2\n",
       "Product Width (cm)              2\n",
       "Freight Value               20568\n",
       "Price ($)                   20568\n",
       "Order ID                    20568\n",
       "Order ID                    20568\n",
       "Customer ID                 20568\n",
       "Customer City               20568\n",
       "Customer State              20568\n",
       "Customer Zip Code Prefix    20568\n",
       "dtype: int64"
      ]
     },
     "execution_count": 9,
     "metadata": {},
     "output_type": "execute_result"
    }
   ],
   "source": [
    "df_freight.isnull().sum()"
   ]
  },
  {
   "cell_type": "code",
   "execution_count": 10,
   "id": "3ee27799-9581-4a3d-b62a-5a7b1a924c34",
   "metadata": {},
   "outputs": [],
   "source": [
    "df_freight_null = df_freight.dropna(subset = [\"Freight Value\"])"
   ]
  },
  {
   "cell_type": "code",
   "execution_count": 11,
   "id": "60434f30-3ed3-4e4d-b9a4-f61c61f4e348",
   "metadata": {},
   "outputs": [
    {
     "data": {
      "text/plain": [
       "Product Id                  0\n",
       "Product Height (cm)         0\n",
       "Product Length (cm)         0\n",
       "Product Weight (g)          0\n",
       "Product Width (cm)          0\n",
       "Freight Value               0\n",
       "Price ($)                   0\n",
       "Order ID                    0\n",
       "Order ID                    0\n",
       "Customer ID                 0\n",
       "Customer City               0\n",
       "Customer State              0\n",
       "Customer Zip Code Prefix    0\n",
       "dtype: int64"
      ]
     },
     "execution_count": 11,
     "metadata": {},
     "output_type": "execute_result"
    }
   ],
   "source": [
    "df_freight_null.isnull().sum()"
   ]
  },
  {
   "cell_type": "markdown",
   "id": "bc96b79a-b2ad-4d74-a3ec-82d2c49a37ee",
   "metadata": {},
   "source": [
    "# -----------------------------------------------------------------------------------------"
   ]
  },
  {
   "cell_type": "code",
   "execution_count": 12,
   "id": "e26522fc-b731-4c85-8f50-107112c99be4",
   "metadata": {},
   "outputs": [],
   "source": [
    "df_freight_null_columndrop = df_freight_null.drop(columns = \\\n",
    "[\"Product Id\",\n",
    "\"Order ID\",\n",
    "\"Order ID\",\n",
    "\"Customer ID\"])"
   ]
  },
  {
   "cell_type": "code",
   "execution_count": 13,
   "id": "9a1ac20b-58a2-4e63-930e-cb1569c14565",
   "metadata": {},
   "outputs": [
    {
     "name": "stdout",
     "output_type": "stream",
     "text": [
      "<class 'pandas.core.frame.DataFrame'>\n",
      "Index: 42130 entries, 20568 to 62697\n",
      "Data columns (total 9 columns):\n",
      " #   Column                    Non-Null Count  Dtype \n",
      "---  ------                    --------------  ----- \n",
      " 0   Product Height (cm)       42130 non-null  object\n",
      " 1   Product Length (cm)       42130 non-null  object\n",
      " 2   Product Weight (g)        42130 non-null  object\n",
      " 3   Product Width (cm)        42130 non-null  object\n",
      " 4   Freight Value             42130 non-null  object\n",
      " 5   Price ($)                 42130 non-null  object\n",
      " 6   Customer City             42130 non-null  object\n",
      " 7   Customer State            42130 non-null  object\n",
      " 8   Customer Zip Code Prefix  42130 non-null  object\n",
      "dtypes: object(9)\n",
      "memory usage: 3.2+ MB\n"
     ]
    }
   ],
   "source": [
    "df_freight_null_columndrop.info()"
   ]
  },
  {
   "cell_type": "code",
   "execution_count": 14,
   "id": "a973eaa5-bd68-4122-aa37-853298ec69d3",
   "metadata": {},
   "outputs": [
    {
     "data": {
      "text/plain": [
       "Index(['Product Height (cm)', 'Product Length (cm)', 'Product Weight (g)',\n",
       "       'Product Width (cm)', 'Freight Value', 'Price ($)', 'Customer City',\n",
       "       'Customer State', 'Customer Zip Code Prefix'],\n",
       "      dtype='object')"
      ]
     },
     "execution_count": 14,
     "metadata": {},
     "output_type": "execute_result"
    }
   ],
   "source": [
    "df_freight_null_columndrop.columns"
   ]
  },
  {
   "cell_type": "code",
   "execution_count": 15,
   "id": "d5227ac8-1021-4d5c-a30c-2fe659bf412f",
   "metadata": {},
   "outputs": [],
   "source": [
    "numeric_columns = ['Product Height (cm)', 'Product Length (cm)', 'Product Weight (g)',\n",
    "       'Product Width (cm)', 'Freight Value', 'Price ($)']"
   ]
  },
  {
   "cell_type": "code",
   "execution_count": 16,
   "id": "cd68cdfe-74de-413b-9311-e567fa1ddb32",
   "metadata": {},
   "outputs": [
    {
     "name": "stdout",
     "output_type": "stream",
     "text": [
      "Product Height (cm)\n",
      "Product Length (cm)\n",
      "Product Weight (g)\n",
      "Product Width (cm)\n",
      "Freight Value\n",
      "Price ($)\n"
     ]
    }
   ],
   "source": [
    "for column in numeric_columns:\n",
    "    print(column)\n",
    "    df_freight_null_columndrop[column] = pd.to_numeric(df_freight_null_columndrop[column], errors='coerce')"
   ]
  },
  {
   "cell_type": "code",
   "execution_count": 17,
   "id": "65403f9a-cf16-4432-ad95-4202072672d7",
   "metadata": {},
   "outputs": [
    {
     "name": "stdout",
     "output_type": "stream",
     "text": [
      "<class 'pandas.core.frame.DataFrame'>\n",
      "Index: 42130 entries, 20568 to 62697\n",
      "Data columns (total 9 columns):\n",
      " #   Column                    Non-Null Count  Dtype  \n",
      "---  ------                    --------------  -----  \n",
      " 0   Product Height (cm)       42130 non-null  int64  \n",
      " 1   Product Length (cm)       42130 non-null  int64  \n",
      " 2   Product Weight (g)        42130 non-null  int64  \n",
      " 3   Product Width (cm)        42130 non-null  int64  \n",
      " 4   Freight Value             42130 non-null  float64\n",
      " 5   Price ($)                 42130 non-null  float64\n",
      " 6   Customer City             42130 non-null  object \n",
      " 7   Customer State            42130 non-null  object \n",
      " 8   Customer Zip Code Prefix  42130 non-null  object \n",
      "dtypes: float64(2), int64(4), object(3)\n",
      "memory usage: 3.2+ MB\n"
     ]
    }
   ],
   "source": [
    "df_freight_null_columndrop.info()"
   ]
  },
  {
   "cell_type": "code",
   "execution_count": 18,
   "id": "e143d0a2-157c-4e72-bdcc-d56bd55978a9",
   "metadata": {},
   "outputs": [
    {
     "data": {
      "text/html": [
       "<div>\n",
       "<style scoped>\n",
       "    .dataframe tbody tr th:only-of-type {\n",
       "        vertical-align: middle;\n",
       "    }\n",
       "\n",
       "    .dataframe tbody tr th {\n",
       "        vertical-align: top;\n",
       "    }\n",
       "\n",
       "    .dataframe thead th {\n",
       "        text-align: right;\n",
       "    }\n",
       "</style>\n",
       "<table border=\"1\" class=\"dataframe\">\n",
       "  <thead>\n",
       "    <tr style=\"text-align: right;\">\n",
       "      <th></th>\n",
       "      <th>Product Height (cm)</th>\n",
       "      <th>Product Length (cm)</th>\n",
       "      <th>Product Weight (g)</th>\n",
       "      <th>Product Width (cm)</th>\n",
       "      <th>Freight Value</th>\n",
       "      <th>Price ($)</th>\n",
       "      <th>Customer City</th>\n",
       "      <th>Customer State</th>\n",
       "      <th>Customer Zip Code Prefix</th>\n",
       "    </tr>\n",
       "  </thead>\n",
       "  <tbody>\n",
       "    <tr>\n",
       "      <th>20568</th>\n",
       "      <td>30</td>\n",
       "      <td>50</td>\n",
       "      <td>30000</td>\n",
       "      <td>40</td>\n",
       "      <td>19.93</td>\n",
       "      <td>239.90</td>\n",
       "      <td>santa fe do sul</td>\n",
       "      <td>SP</td>\n",
       "      <td>15775</td>\n",
       "    </tr>\n",
       "    <tr>\n",
       "      <th>20569</th>\n",
       "      <td>13</td>\n",
       "      <td>33</td>\n",
       "      <td>3050</td>\n",
       "      <td>33</td>\n",
       "      <td>17.87</td>\n",
       "      <td>199.00</td>\n",
       "      <td>para de minas</td>\n",
       "      <td>MG</td>\n",
       "      <td>35661</td>\n",
       "    </tr>\n",
       "    <tr>\n",
       "      <th>20570</th>\n",
       "      <td>40</td>\n",
       "      <td>35</td>\n",
       "      <td>3750</td>\n",
       "      <td>30</td>\n",
       "      <td>18.14</td>\n",
       "      <td>199.90</td>\n",
       "      <td>varzea paulista</td>\n",
       "      <td>SP</td>\n",
       "      <td>13226</td>\n",
       "    </tr>\n",
       "    <tr>\n",
       "      <th>20571</th>\n",
       "      <td>8</td>\n",
       "      <td>24</td>\n",
       "      <td>450</td>\n",
       "      <td>15</td>\n",
       "      <td>12.69</td>\n",
       "      <td>21.90</td>\n",
       "      <td>uberaba</td>\n",
       "      <td>MG</td>\n",
       "      <td>38017</td>\n",
       "    </tr>\n",
       "    <tr>\n",
       "      <th>20572</th>\n",
       "      <td>25</td>\n",
       "      <td>35</td>\n",
       "      <td>950</td>\n",
       "      <td>20</td>\n",
       "      <td>8.88</td>\n",
       "      <td>59.99</td>\n",
       "      <td>piracicaba</td>\n",
       "      <td>SP</td>\n",
       "      <td>13419</td>\n",
       "    </tr>\n",
       "  </tbody>\n",
       "</table>\n",
       "</div>"
      ],
      "text/plain": [
       "       Product Height (cm)  Product Length (cm)  Product Weight (g)  \\\n",
       "20568                   30                   50               30000   \n",
       "20569                   13                   33                3050   \n",
       "20570                   40                   35                3750   \n",
       "20571                    8                   24                 450   \n",
       "20572                   25                   35                 950   \n",
       "\n",
       "       Product Width (cm)  Freight Value  Price ($)    Customer City  \\\n",
       "20568                  40          19.93     239.90  santa fe do sul   \n",
       "20569                  33          17.87     199.00    para de minas   \n",
       "20570                  30          18.14     199.90  varzea paulista   \n",
       "20571                  15          12.69      21.90          uberaba   \n",
       "20572                  20           8.88      59.99       piracicaba   \n",
       "\n",
       "      Customer State Customer Zip Code Prefix  \n",
       "20568             SP                    15775  \n",
       "20569             MG                    35661  \n",
       "20570             SP                    13226  \n",
       "20571             MG                    38017  \n",
       "20572             SP                    13419  "
      ]
     },
     "execution_count": 18,
     "metadata": {},
     "output_type": "execute_result"
    }
   ],
   "source": [
    "df_freight_null_columndrop.head(5)"
   ]
  },
  {
   "cell_type": "code",
   "execution_count": 19,
   "id": "f90301e6-e9f1-4a58-a645-d3655060e7cd",
   "metadata": {},
   "outputs": [],
   "source": [
    "target_mean_customercity = df_freight_null_columndrop.groupby('Customer City')['Freight Value'].mean().to_dict()\n",
    "target_mean_customerstate = df_freight_null_columndrop.groupby('Customer State')['Freight Value'].mean().to_dict()\n",
    "target_mean_customerzip = df_freight_null_columndrop.groupby('Customer Zip Code Prefix')['Freight Value'].mean().to_dict()"
   ]
  },
  {
   "cell_type": "code",
   "execution_count": 20,
   "id": "d269cf7a-b347-40c1-8652-fddbc3f661ac",
   "metadata": {},
   "outputs": [],
   "source": [
    "df_freight_null_columndrop['Customer City'] = df_freight_null_columndrop['Customer City'].map(target_mean_customercity)\n",
    "df_freight_null_columndrop['Customer State'] = df_freight_null_columndrop['Customer State'].map(target_mean_customerstate)\n",
    "df_freight_null_columndrop['Customer Zip Code Prefix'] = df_freight_null_columndrop['Customer Zip Code Prefix'].map(target_mean_customerzip)"
   ]
  },
  {
   "cell_type": "code",
   "execution_count": 21,
   "id": "389a8061-8851-48fd-9b6b-9700ec4c91ab",
   "metadata": {},
   "outputs": [
    {
     "data": {
      "text/html": [
       "<div>\n",
       "<style scoped>\n",
       "    .dataframe tbody tr th:only-of-type {\n",
       "        vertical-align: middle;\n",
       "    }\n",
       "\n",
       "    .dataframe tbody tr th {\n",
       "        vertical-align: top;\n",
       "    }\n",
       "\n",
       "    .dataframe thead th {\n",
       "        text-align: right;\n",
       "    }\n",
       "</style>\n",
       "<table border=\"1\" class=\"dataframe\">\n",
       "  <thead>\n",
       "    <tr style=\"text-align: right;\">\n",
       "      <th></th>\n",
       "      <th>Product Height (cm)</th>\n",
       "      <th>Product Length (cm)</th>\n",
       "      <th>Product Weight (g)</th>\n",
       "      <th>Product Width (cm)</th>\n",
       "      <th>Freight Value</th>\n",
       "      <th>Price ($)</th>\n",
       "      <th>Customer City</th>\n",
       "      <th>Customer State</th>\n",
       "      <th>Customer Zip Code Prefix</th>\n",
       "    </tr>\n",
       "  </thead>\n",
       "  <tbody>\n",
       "    <tr>\n",
       "      <th>20568</th>\n",
       "      <td>30</td>\n",
       "      <td>50</td>\n",
       "      <td>30000</td>\n",
       "      <td>40</td>\n",
       "      <td>19.93</td>\n",
       "      <td>239.90</td>\n",
       "      <td>18.298125</td>\n",
       "      <td>15.266044</td>\n",
       "      <td>18.298125</td>\n",
       "    </tr>\n",
       "    <tr>\n",
       "      <th>20569</th>\n",
       "      <td>13</td>\n",
       "      <td>33</td>\n",
       "      <td>3050</td>\n",
       "      <td>33</td>\n",
       "      <td>17.87</td>\n",
       "      <td>199.00</td>\n",
       "      <td>25.515333</td>\n",
       "      <td>20.513701</td>\n",
       "      <td>16.851000</td>\n",
       "    </tr>\n",
       "    <tr>\n",
       "      <th>20570</th>\n",
       "      <td>40</td>\n",
       "      <td>35</td>\n",
       "      <td>3750</td>\n",
       "      <td>30</td>\n",
       "      <td>18.14</td>\n",
       "      <td>199.90</td>\n",
       "      <td>21.682368</td>\n",
       "      <td>15.266044</td>\n",
       "      <td>18.140000</td>\n",
       "    </tr>\n",
       "    <tr>\n",
       "      <th>20571</th>\n",
       "      <td>8</td>\n",
       "      <td>24</td>\n",
       "      <td>450</td>\n",
       "      <td>15</td>\n",
       "      <td>12.69</td>\n",
       "      <td>21.90</td>\n",
       "      <td>20.602778</td>\n",
       "      <td>20.513701</td>\n",
       "      <td>17.536000</td>\n",
       "    </tr>\n",
       "    <tr>\n",
       "      <th>20572</th>\n",
       "      <td>25</td>\n",
       "      <td>35</td>\n",
       "      <td>950</td>\n",
       "      <td>20</td>\n",
       "      <td>8.88</td>\n",
       "      <td>59.99</td>\n",
       "      <td>16.651863</td>\n",
       "      <td>15.266044</td>\n",
       "      <td>14.044167</td>\n",
       "    </tr>\n",
       "  </tbody>\n",
       "</table>\n",
       "</div>"
      ],
      "text/plain": [
       "       Product Height (cm)  Product Length (cm)  Product Weight (g)  \\\n",
       "20568                   30                   50               30000   \n",
       "20569                   13                   33                3050   \n",
       "20570                   40                   35                3750   \n",
       "20571                    8                   24                 450   \n",
       "20572                   25                   35                 950   \n",
       "\n",
       "       Product Width (cm)  Freight Value  Price ($)  Customer City  \\\n",
       "20568                  40          19.93     239.90      18.298125   \n",
       "20569                  33          17.87     199.00      25.515333   \n",
       "20570                  30          18.14     199.90      21.682368   \n",
       "20571                  15          12.69      21.90      20.602778   \n",
       "20572                  20           8.88      59.99      16.651863   \n",
       "\n",
       "       Customer State  Customer Zip Code Prefix  \n",
       "20568       15.266044                 18.298125  \n",
       "20569       20.513701                 16.851000  \n",
       "20570       15.266044                 18.140000  \n",
       "20571       20.513701                 17.536000  \n",
       "20572       15.266044                 14.044167  "
      ]
     },
     "execution_count": 21,
     "metadata": {},
     "output_type": "execute_result"
    }
   ],
   "source": [
    "df_freight_null_columndrop.head(5)"
   ]
  },
  {
   "cell_type": "code",
   "execution_count": 22,
   "id": "d0a227e8-d154-4d32-93ce-9b11b0d6effa",
   "metadata": {},
   "outputs": [
    {
     "name": "stdout",
     "output_type": "stream",
     "text": [
      "------------------------------\n",
      "df_shape: \t (42130, 9)\n",
      "------------------------------\n",
      "X_train: \t (31597, 8) \n",
      "y_train: \t (31597,)\n",
      "------------------------------\n",
      "X_test: \t (10533, 8) \n",
      "y_test: \t (10533,)\n"
     ]
    }
   ],
   "source": [
    "#Splitting and Dropping of Data & Columns for Machine Learning\n",
    "from sklearn.model_selection import train_test_split\n",
    "\n",
    "X = df_freight_null_columndrop.drop(columns = ['Freight Value'])\n",
    "y = df_freight_null_columndrop['Freight Value']\n",
    "\n",
    "X_train, X_test, y_train, y_test = train_test_split(X, y, random_state=10)\n",
    "\n",
    "print(dv)\n",
    "print(f'df_shape: \\t {df_freight_null_columndrop.shape}')\n",
    "\n",
    "print(dv)\n",
    "print(f'X_train: \\t {X_train.shape} \\ny_train: \\t {y_train.shape}')\n",
    "\n",
    "print(dv)\n",
    "print(f'X_test: \\t {X_test.shape} \\ny_test: \\t {y_test.shape}')"
   ]
  },
  {
   "cell_type": "code",
   "execution_count": 23,
   "id": "1afa634e-3b6c-43a0-8427-4b2ef89382c2",
   "metadata": {},
   "outputs": [],
   "source": [
    "validation_size = 0.15\n",
    "X_train, X_validation, y_train, y_validation = train_test_split(X_train, y_train, test_size=validation_size, random_state=10)\n"
   ]
  },
  {
   "cell_type": "code",
   "execution_count": 24,
   "id": "3fef1a73-4fdd-46cc-a9ad-0fdc8f29836d",
   "metadata": {},
   "outputs": [
    {
     "name": "stdout",
     "output_type": "stream",
     "text": [
      "------------------------------\n",
      "df_shape: \t (42130, 9)\n",
      "------------------------------\n",
      "X_validation: \t (4740, 8) \n",
      "y_validation: \t (4740,)\n",
      "------------------------------\n",
      "X_train: \t (26857, 8) \n",
      "y_train: \t (26857,)\n",
      "------------------------------\n",
      "X_test: \t (10533, 8) \n",
      "y_test: \t (10533,)\n"
     ]
    }
   ],
   "source": [
    "print(dv)\n",
    "print(f'df_shape: \\t {df_freight_null_columndrop.shape}')\n",
    "\n",
    "print(dv)\n",
    "print(f'X_validation: \\t {X_validation.shape} \\ny_validation: \\t {y_validation.shape}')\n",
    "\n",
    "print(dv)\n",
    "print(f'X_train: \\t {X_train.shape} \\ny_train: \\t {y_train.shape}')\n",
    "\n",
    "print(dv)\n",
    "print(f'X_test: \\t {X_test.shape} \\ny_test: \\t {y_test.shape}')"
   ]
  },
  {
   "cell_type": "markdown",
   "id": "69f8dbad-39b8-4941-8a6d-218f1863ccb0",
   "metadata": {},
   "source": [
    "# Cross Validation, Grid Search and Modeling"
   ]
  },
  {
   "cell_type": "markdown",
   "id": "2240a129-60cb-4aaf-bdeb-cfa35b176159",
   "metadata": {},
   "source": [
    "## CROSS VALIDATION"
   ]
  },
  {
   "cell_type": "code",
   "execution_count": 25,
   "id": "317f89b9-69b7-4069-8f3c-b90de295f6bf",
   "metadata": {},
   "outputs": [],
   "source": [
    "from sklearn.model_selection import cross_val_score\n",
    "from sklearn.metrics import mean_squared_error, mean_absolute_error, r2_score, explained_variance_score\n",
    "\n",
    "from sklearn.model_selection import cross_val_score\n",
    "from sklearn.linear_model import LinearRegression, Lasso, Ridge\n",
    "from sklearn.neighbors import KNeighborsRegressor\n",
    "from sklearn.tree import DecisionTreeRegressor\n",
    "from sklearn.ensemble import RandomForestRegressor, GradientBoostingRegressor\n",
    "from sklearn.svm import SVR\n",
    "from xgboost import XGBRegressor"
   ]
  },
  {
   "cell_type": "markdown",
   "id": "df333738-7563-4835-bc38-39e25b6e6d1a",
   "metadata": {},
   "source": [
    "<table>\n",
    "  <tr>\n",
    "    <th colspan=\"2\">Regression Models to Cross-Validate</th>\n",
    "  </tr>\n",
    "  <tr>\n",
    "    <td>Linear Regression</td>\n",
    "    <td>K-Nearest Neighbors Regression (KNN)</td>\n",
    "  </tr>\n",
    "  <tr>\n",
    "    <td>Lasso Regression</td>\n",
    "    <td>Decision Tree Regression</td>\n",
    "  </tr>\n",
    "  <tr>\n",
    "    <td>Ridge Regression</td>\n",
    "    <td>XGBoost Regression</td>\n",
    "  </tr>\n",
    "  <tr>\n",
    "    <td>Gradient Boosting Regression</td>\n",
    "    <td></td>\n",
    "  </tr>\n",
    "  <tr>\n",
    "    <td>Random Forest Regression</td>\n",
    "    <td></td>\n",
    "  </tr>\n",
    "  <tr>\n",
    "    <td>Support Vector Regression (SVR)</td>\n",
    "    <td></td>\n",
    "  </tr>\n",
    "</table>\n"
   ]
  },
  {
   "cell_type": "code",
   "execution_count": 26,
   "id": "0544fc64-769c-4082-9d74-6da6dd3f14ef",
   "metadata": {},
   "outputs": [
    {
     "name": "stdout",
     "output_type": "stream",
     "text": [
      "------------------------------\n",
      "Model: Linear Regression\n",
      "MSE Mean: 86.16\n",
      "MAE Mean: 5.13\n",
      "R2 Mean: 0.66\n",
      "Explained Variance Mean: 0.66\n",
      "\n",
      "------------------------------\n",
      "Model: Lasso Regression\n",
      "MSE Mean: 86.21\n",
      "MAE Mean: 5.11\n",
      "R2 Mean: 0.66\n",
      "Explained Variance Mean: 0.66\n",
      "\n",
      "------------------------------\n",
      "Model: Ridge Regression\n",
      "MSE Mean: 86.16\n",
      "MAE Mean: 5.13\n",
      "R2 Mean: 0.66\n",
      "Explained Variance Mean: 0.66\n",
      "\n",
      "------------------------------\n",
      "Model: KNN Regression\n",
      "MSE Mean: 104.44\n",
      "MAE Mean: 5.09\n",
      "R2 Mean: 0.59\n",
      "Explained Variance Mean: 0.59\n",
      "\n",
      "------------------------------\n",
      "Model: Decision Tree Regression\n",
      "MSE Mean: 125.16\n",
      "MAE Mean: 5.28\n",
      "R2 Mean: 0.50\n",
      "Explained Variance Mean: 0.50\n",
      "\n",
      "------------------------------\n",
      "Model: SVR\n",
      "MSE Mean: 161.40\n",
      "MAE Mean: 6.44\n",
      "R2 Mean: 0.36\n",
      "Explained Variance Mean: 0.38\n",
      "\n",
      "------------------------------\n",
      "Model: XGBoost Regression\n",
      "MSE Mean: 66.79\n",
      "MAE Mean: 4.18\n",
      "R2 Mean: 0.73\n",
      "Explained Variance Mean: 0.73\n",
      "\n",
      "------------------------------\n",
      "Model: Gradient Boosting Regression\n",
      "MSE Mean: 71.62\n",
      "MAE Mean: 4.50\n",
      "R2 Mean: 0.71\n",
      "Explained Variance Mean: 0.71\n",
      "\n",
      "------------------------------\n",
      "Model: Random Forest Regression\n",
      "MSE Mean: 65.72\n",
      "MAE Mean: 3.96\n",
      "R2 Mean: 0.74\n",
      "Explained Variance Mean: 0.74\n",
      "\n"
     ]
    }
   ],
   "source": [
    "models = {\n",
    "    'Linear Regression': LinearRegression(),\n",
    "    'Lasso Regression': Lasso(),\n",
    "    'Ridge Regression': Ridge(),\n",
    "    'KNN Regression': KNeighborsRegressor(),\n",
    "    'Decision Tree Regression': DecisionTreeRegressor(),\n",
    "    'SVR': SVR(),\n",
    "    'XGBoost Regression': XGBRegressor(),\n",
    "    'Gradient Boosting Regression': GradientBoostingRegressor(),\n",
    "    'Random Forest Regression': RandomForestRegressor()\n",
    "}\n",
    "\n",
    "# Loop over each model\n",
    "for name, model in models.items():\n",
    "    # Perform cross-validation with different scoring options\n",
    "    cv_scores_mse = cross_val_score(model, X_train, y_train, cv=5, scoring='neg_mean_squared_error')\n",
    "    cv_scores_mae = cross_val_score(model, X_train, y_train, cv=5, scoring='neg_mean_absolute_error')\n",
    "    cv_scores_r2 = cross_val_score(model, X_train, y_train, cv=5, scoring='r2')\n",
    "    cv_scores_explained_variance = cross_val_score(model, X_train, y_train, cv=5, scoring='explained_variance')\n",
    "    \n",
    "    # Calculate mean scores\n",
    "    mean_mse = -cv_scores_mse.mean()\n",
    "    mean_mae = -cv_scores_mae.mean()\n",
    "    mean_r2 = cv_scores_r2.mean()\n",
    "    mean_explained_variance = cv_scores_explained_variance.mean()\n",
    "    \n",
    "    # Print the mean scores for each model\n",
    "    print(dv)\n",
    "    print(f\"Model: {name}\")\n",
    "    print(f\"MSE Mean: {mean_mse:.2f}\")\n",
    "    print(f\"MAE Mean: {mean_mae:.2f}\")\n",
    "    print(f\"R2 Mean: {mean_r2:.2f}\")\n",
    "    print(f\"Explained Variance Mean: {mean_explained_variance:.2f}\\n\")\n"
   ]
  },
  {
   "cell_type": "markdown",
   "id": "d583457f-feaf-42e2-baf6-f1074fc9ad2f",
   "metadata": {},
   "source": [
    "<table border=\"1\">\r\n",
    "    <tr>\r\n",
    "      <th>Model</th>\r\n",
    "      <th>MSE Mean</th>\r\n",
    "      <th>MAE Mean</th>\r\n",
    "      <th>R2 Mean</th>\r\n",
    "      <th>Explained Variance Mean</th>\r\n",
    "    </tr>\r\n",
    "    <tr>\r\n",
    "      <td>XGBoost Regression</td>\r\n",
    "      <td>66.79</td>\r\n",
    "      <td>4.18</td>\r\n",
    "      <td>0.73</td>\r\n",
    "      <td>0.73</td>\r\n",
    "    </tr>\r\n",
    "    <tr>\r\n",
    "      <td>Gradient Boosting Regression</td>\r\n",
    "      <td>71.45</td>\r\n",
    "      <td>4.50</td>\r\n",
    "      <td>0.72</td>\r\n",
    "      <td>0.71</td>\r\n",
    "    </tr>\r\n",
    "    <tr>\r\n",
    "      <td>Random Forest Regression</td>\r\n",
    "      <td>65.80</td>\r\n",
    "      <td>3.95</td>\r\n",
    "      <td>0.74</td>\r\n",
    "      <td>0.74</td>\r\n",
    "    </tr>\r\n",
    "  </table>"
   ]
  },
  {
   "cell_type": "markdown",
   "id": "d78311fa-9b9a-4345-9fca-1cc41269b72b",
   "metadata": {},
   "source": [
    "## HYPERPARAMETER TUNING"
   ]
  },
  {
   "cell_type": "code",
   "execution_count": 27,
   "id": "62b56934-97cf-4b57-b5d9-df3f0e660486",
   "metadata": {},
   "outputs": [
    {
     "name": "stdout",
     "output_type": "stream",
     "text": [
      "XGBoost Regression\n",
      "Best Score: 0.77\n",
      "Best Parameters: {'n_estimators': 300, 'max_depth': 4}\n",
      "\n",
      "Gradient Boosting Regression\n",
      "Best Score: 0.78\n",
      "Best Parameters: {'n_estimators': 300, 'max_depth': 5}\n",
      "\n",
      "Random Forest Regression\n",
      "Best Score: 0.70\n",
      "Best Parameters: {'n_estimators': 200, 'max_depth': 5}\n",
      "\n"
     ]
    }
   ],
   "source": [
    "from sklearn.model_selection import GridSearchCV\n",
    "from xgboost import XGBRegressor\n",
    "from sklearn.ensemble import GradientBoostingRegressor, RandomForestRegressor\n",
    "# Initialize variables to keep track of the best score and corresponding parameters\n",
    "best_score_xgb = 0\n",
    "best_params_xgb = None\n",
    "best_score_gb = 0\n",
    "best_params_gb = None\n",
    "best_score_rf = 0\n",
    "best_params_rf = None\n",
    "\n",
    "# Define the hyperparameter grids for each model\n",
    "param_grid_xgb = {\n",
    "    'n_estimators': [100, 200, 300],\n",
    "    'max_depth': [3, 4, 5],\n",
    "}\n",
    "\n",
    "param_grid_gb = {\n",
    "    'n_estimators': [100, 200, 300],\n",
    "    'max_depth': [3, 4, 5],\n",
    "}\n",
    "\n",
    "param_grid_rf = {\n",
    "    'n_estimators': [100, 200, 300],\n",
    "    'max_depth': [3, 4, 5],\n",
    "}\n",
    "\n",
    "for n_estimators in param_grid_xgb['n_estimators']:\n",
    "    for max_depth in param_grid_xgb['max_depth']:\n",
    "        regr = XGBRegressor(n_estimators=n_estimators, max_depth=max_depth)\n",
    "        regr.fit(X_train,y_train)\n",
    "        score = regr.score(X_validation,y_validation)\n",
    "\n",
    "        if score > best_score_xgb:\n",
    "            best_score_xgb = score\n",
    "            best_params_xgb = {'n_estimators':n_estimators, 'max_depth':max_depth}\n",
    "print(\"\"\"XGBoost Regression\n",
    "Best Score: {:.2f}\n",
    "Best Parameters: {}\n",
    "\"\"\".format(best_score_xgb, best_params_xgb))\n",
    "        \n",
    "for n_estimators in param_grid_gb['n_estimators']:\n",
    "    for max_depth in param_grid_gb['max_depth']:\n",
    "        regr = GradientBoostingRegressor(n_estimators=n_estimators, max_depth=max_depth)\n",
    "        regr.fit(X_train,y_train)\n",
    "        score = regr.score(X_validation,y_validation)\n",
    "\n",
    "        if score > best_score_gb:\n",
    "            best_score_gb = score\n",
    "            best_params_gb = {'n_estimators':n_estimators, 'max_depth':max_depth}\n",
    "print(\"\"\"Gradient Boosting Regression\n",
    "Best Score: {:.2f}\n",
    "Best Parameters: {}\n",
    "\"\"\".format(best_score_gb, best_params_gb))\n",
    "\n",
    "for n_estimators in param_grid_rf['n_estimators']:\n",
    "    for max_depth in param_grid_rf['max_depth']:\n",
    "        regr = RandomForestRegressor(n_estimators=n_estimators, max_depth=max_depth)\n",
    "        regr.fit(X_train,y_train)\n",
    "        score = regr.score(X_validation,y_validation)\n",
    "\n",
    "        if score > best_score_rf:\n",
    "            best_score_rf = score\n",
    "            best_params_rf = {'n_estimators':n_estimators, 'max_depth':max_depth}\n",
    "print(\"\"\"Random Forest Regression\n",
    "Best Score: {:.2f}\n",
    "Best Parameters: {}\n",
    "\"\"\".format(best_score_rf, best_params_rf))\n",
    "\n",
    "\n",
    "\n"
   ]
  },
  {
   "cell_type": "markdown",
   "id": "ce98788a-89cd-46c4-a13c-6c2b6d2d1f1f",
   "metadata": {},
   "source": [
    "## REGRESSION MODELING"
   ]
  },
  {
   "cell_type": "markdown",
   "id": "1fc584bd-68b8-43c8-8030-176f5e1c1210",
   "metadata": {},
   "source": [
    "### XGBoost Regression"
   ]
  },
  {
   "cell_type": "code",
   "execution_count": 31,
   "id": "4675dc24-d758-44ff-8896-6ee42865cd3b",
   "metadata": {},
   "outputs": [
    {
     "data": {
      "image/png": "[encoded data removed]",
      "text/plain": [
       "<Figure size 640x480 with 1 Axes>"
      ]
     },
     "metadata": {},
     "output_type": "display_data"
    }
   ],
   "source": [
    "import matplotlib.pyplot as plt\n",
    "\n",
    "xgb_reg = XGBRegressor(n_estimators=300, max_depth=4)\n",
    "xgb_reg.fit(X_train,y_train)\n",
    "\n",
    "# Calculate the accuracy scores for the training and test sets\n",
    "xgb_train_score = xgb_reg.score(X_train, y_train)\n",
    "xgb_test_score = xgb_reg.score(X_test, y_test)\n",
    "\n",
    "# Model scores\n",
    "scores = [xgb_train_score, xgb_test_score]\n",
    "labels = ['Training', 'Testing']\n",
    "\n",
    "# Create the column chart\n",
    "plt.bar(labels, scores, color=['lightblue', 'lightgreen'])\n",
    "plt.ylabel('Accuracy Score')\n",
    "plt.title('XGBoost Regression')\n",
    "plt.yticks([])\n",
    "plt.ylim(0, 1.02)\n",
    "\n",
    "# Display the scores on the columns\n",
    "for i, score in enumerate(scores):\n",
    "    plt.text(i, score, f'{score:.2f}', ha='center', va='top', fontsize=12, color='black')\n",
    "\n",
    "plt.show()"
   ]
  },
  {
   "cell_type": "markdown",
   "id": "e528deac-19c3-47d9-8bad-63d0c0b7da07",
   "metadata": {},
   "source": [
    "### Gradient Boosting Regression"
   ]
  },
  {
   "cell_type": "code",
   "execution_count": 32,
   "id": "85dd3dae-193d-4fb8-8f7e-5122eef7e3b6",
   "metadata": {},
   "outputs": [
    {
     "data": {
      "image/png": "[encoded data removed]",
      "text/plain": [
       "<Figure size 640x480 with 1 Axes>"
      ]
     },
     "metadata": {},
     "output_type": "display_data"
    }
   ],
   "source": [
    "gb_reg = GradientBoostingRegressor(n_estimators=200, max_depth=5)\n",
    "gb_reg.fit(X_train,y_train)\n",
    "\n",
    "# Calculate the accuracy scores for the training and test sets\n",
    "gb_train_score = gb_reg.score(X_train, y_train)\n",
    "gb_test_score = gb_reg.score(X_test, y_test)\n",
    "\n",
    "# Model scores\n",
    "scores = [gb_train_score, gb_test_score]\n",
    "labels = ['Training', 'Testing']\n",
    "\n",
    "# Create the column chart\n",
    "plt.bar(labels, scores, color=['lightblue', 'lightgreen'])\n",
    "plt.ylabel('Accuracy Score')\n",
    "plt.title('Gradient Boosting Regression')\n",
    "plt.yticks([])\n",
    "plt.ylim(0, 1.02)\n",
    "\n",
    "# Display the scores on the columns\n",
    "for i, score in enumerate(scores):\n",
    "    plt.text(i, score, f'{score:.2f}', ha='center', va='top', fontsize=12, color='black')\n",
    "\n",
    "plt.show()"
   ]
  },
  {
   "cell_type": "markdown",
   "id": "1768c699-c1ad-4ed7-bbbc-f84c99af3ede",
   "metadata": {},
   "source": [
    "### Random Forest Regression"
   ]
  },
  {
   "cell_type": "code",
   "execution_count": 33,
   "id": "83f94e58-5d49-4aab-bade-cb5553d836ee",
   "metadata": {},
   "outputs": [
    {
     "data": {
      "image/png": "[encoded data removed]",
      "text/plain": [
       "<Figure size 640x480 with 1 Axes>"
      ]
     },
     "metadata": {},
     "output_type": "display_data"
    }
   ],
   "source": [
    "rf_reg = RandomForestRegressor(n_estimators=100, max_depth=5)\n",
    "rf_reg.fit(X_train,y_train)\n",
    "\n",
    "# Calculate the accuracy scores for the training and test sets\n",
    "rf_train_score = rf_reg.score(X_train, y_train)\n",
    "rf_test_score = rf_reg.score(X_test, y_test)\n",
    "\n",
    "# Model scores\n",
    "scores = [rf_train_score, rf_test_score]\n",
    "labels = ['Training', 'Testing']\n",
    "\n",
    "# Create the column chart\n",
    "plt.bar(labels, scores, color=['lightblue', 'lightgreen'])\n",
    "plt.ylabel('Accuracy Score')\n",
    "plt.title('Random Forest Regression')\n",
    "plt.yticks([])\n",
    "plt.ylim(0, 1.02)\n",
    "\n",
    "# Display the scores on the columns\n",
    "for i, score in enumerate(scores):\n",
    "    plt.text(i, score, f'{score:.2f}', ha='center', va='top', fontsize=12, color='black')\n",
    "\n",
    "plt.show()"
   ]
  },
  {
   "cell_type": "markdown",
   "id": "02dcefc4-1c4d-4a96-bb85-3ac4263773b2",
   "metadata": {},
   "source": [
    "# Evaluation Metrics - MSE, MAE, R2 & Explained Variance"
   ]
  },
  {
   "cell_type": "markdown",
   "id": "1ef2a640-dd1a-461d-a434-3c949bad0eea",
   "metadata": {},
   "source": [
    "## MEAN SQUARED ERROR (MSE)"
   ]
  },
  {
   "cell_type": "code",
   "execution_count": 34,
   "id": "4f75a21d-668a-4e0d-a297-b709a7d5e4f9",
   "metadata": {},
   "outputs": [
    {
     "data": {
      "image/png": "[encoded data removed]",
      "text/plain": [
       "<Figure size 1000x600 with 1 Axes>"
      ]
     },
     "metadata": {},
     "output_type": "display_data"
    }
   ],
   "source": [
    "mse_XGB = mean_squared_error(y_test, xgb_reg.predict(X_test))\n",
    "mse_GB = mean_squared_error(y_test, gb_reg.predict(X_test))\n",
    "mse_RF = mean_squared_error(y_test, rf_reg.predict(X_test))\n",
    "\n",
    "# Find the model with the highest ROC-AUC score\n",
    "model = np.array([\n",
    "    ['XGBoost Regression', mse_XGB],\n",
    "    ['Gradient Boosting', mse_GB],\n",
    "    ['Random Forest', mse_RF],\n",
    "\n",
    "])\n",
    "\n",
    "# Extract model names and accuracy scores\n",
    "model_names = model[:, 0]\n",
    "accuracy_scores = model[:, 1].astype(float)\n",
    "\n",
    "# Sort the data based on accuracy scores in descending order\n",
    "sorted_indices = np.argsort(accuracy_scores)[::-1]\n",
    "model_names = model_names[sorted_indices]\n",
    "accuracy_scores = accuracy_scores[sorted_indices]\n",
    "\n",
    "# Create the bar chart\n",
    "plt.figure(figsize=(10, 6))\n",
    "plt.barh(model_names, accuracy_scores, color= 'Yellow')\n",
    "plt.xlabel('MEAN SQUARED ERROR (MSE)')\n",
    "plt.title('MSE for Different Models (Sorted)')\n",
    "plt.grid(axis='x', linestyle=' ', alpha=0.6)\n",
    "\n",
    "# Display the accuracy scores on the bars\n",
    "for i, accuracy in enumerate(accuracy_scores):\n",
    "    plt.text(accuracy, i, f'{accuracy:.2f}', va='center', fontsize=12, color='black')\n",
    "\n",
    "plt.show()\n"
   ]
  },
  {
   "cell_type": "markdown",
   "id": "15d5fe33-6122-4244-99b3-c3b38c84a28c",
   "metadata": {},
   "source": [
    "## MEAN ABSOLUTE ERROR (MAE)"
   ]
  },
  {
   "cell_type": "code",
   "execution_count": 35,
   "id": "649d9ca7-6c41-4122-8af5-2dc9653fb77e",
   "metadata": {},
   "outputs": [
    {
     "data": {
      "image/png": "[encoded data removed]",
      "text/plain": [
       "<Figure size 1000x600 with 1 Axes>"
      ]
     },
     "metadata": {},
     "output_type": "display_data"
    }
   ],
   "source": [
    "mae_XGB = mean_absolute_error(y_test, xgb_reg.predict(X_test))\n",
    "mae_GB = mean_absolute_error(y_test, gb_reg.predict(X_test))\n",
    "mae_RF = mean_absolute_error(y_test, rf_reg.predict(X_test))\n",
    "\n",
    "# Find the model with the highest ROC-AUC score\n",
    "model = np.array([\n",
    "    ['XGBoost Regression', mae_XGB],\n",
    "    ['Gradient Boosting', mae_GB],\n",
    "    ['Random Forest', mae_RF],\n",
    "\n",
    "])\n",
    "\n",
    "# Extract model names and accuracy scores\n",
    "model_names = model[:, 0]\n",
    "accuracy_scores = model[:, 1].astype(float)\n",
    "\n",
    "# Sort the data based on accuracy scores in descending order\n",
    "sorted_indices = np.argsort(accuracy_scores)[::-1]\n",
    "model_names = model_names[sorted_indices]\n",
    "accuracy_scores = accuracy_scores[sorted_indices]\n",
    "\n",
    "# Create the bar chart\n",
    "plt.figure(figsize=(10, 6))\n",
    "plt.barh(model_names, accuracy_scores, color= 'Yellow')\n",
    "plt.xlabel('MEAN ABSOLUTE ERROR (MSE)')\n",
    "plt.title('MAE for Different Models (Sorted)')\n",
    "plt.grid(axis='x', linestyle=' ', alpha=0.6)\n",
    "\n",
    "# Display the accuracy scores on the bars\n",
    "for i, accuracy in enumerate(accuracy_scores):\n",
    "    plt.text(accuracy, i, f'{accuracy:.2f}', va='center', fontsize=12, color='black')\n",
    "\n",
    "plt.show()\n"
   ]
  },
  {
   "cell_type": "markdown",
   "id": "a6daf26b-e15f-4099-8556-0430a8ed9cb7",
   "metadata": {},
   "source": [
    "## R-SQUARED (R2)"
   ]
  },
  {
   "cell_type": "code",
   "execution_count": 36,
   "id": "2c532b91-6247-4936-87d6-885817a6ab63",
   "metadata": {},
   "outputs": [
    {
     "data": {
      "image/png": "[encoded data removed]",
      "text/plain": [
       "<Figure size 1000x600 with 1 Axes>"
      ]
     },
     "metadata": {},
     "output_type": "display_data"
    }
   ],
   "source": [
    "r2_XGB = r2_score(y_test, xgb_reg.predict(X_test))\n",
    "r2_GB = r2_score(y_test, gb_reg.predict(X_test))\n",
    "r2_RF = r2_score(y_test, rf_reg.predict(X_test))\n",
    "\n",
    "# Find the model with the highest ROC-AUC score\n",
    "model = np.array([\n",
    "    ['XGBoost Regression', r2_XGB],\n",
    "    ['Gradient Boosting', r2_GB],\n",
    "    ['Random Forest', r2_RF],\n",
    "\n",
    "])\n",
    "\n",
    "# Extract model names and accuracy scores\n",
    "model_names = model[:, 0]\n",
    "accuracy_scores = model[:, 1].astype(float)\n",
    "\n",
    "# Sort the data based on accuracy scores in descending order\n",
    "sorted_indices = np.argsort(accuracy_scores)[::-1]\n",
    "model_names = model_names[sorted_indices]\n",
    "accuracy_scores = accuracy_scores[sorted_indices]\n",
    "\n",
    "# Create the bar chart\n",
    "plt.figure(figsize=(10, 6))\n",
    "plt.barh(model_names, accuracy_scores, color= 'Yellow')\n",
    "plt.xlabel('R-SQUARED (R2)')\n",
    "plt.title('R2 for Different Models (Sorted)')\n",
    "plt.grid(axis='x', linestyle=' ', alpha=0.6)\n",
    "\n",
    "# Display the accuracy scores on the bars\n",
    "for i, accuracy in enumerate(accuracy_scores):\n",
    "    plt.text(accuracy, i, f'{accuracy:.2f}', va='center', fontsize=12, color='black')\n",
    "\n",
    "plt.show()\n"
   ]
  },
  {
   "cell_type": "markdown",
   "id": "f227ce80-1101-4073-be73-934c2a41e7ee",
   "metadata": {},
   "source": [
    "## EXPLAINED VARIANCE"
   ]
  },
  {
   "cell_type": "code",
   "execution_count": 37,
   "id": "84ae2939-c666-4cbd-9ccd-2969cb42ee68",
   "metadata": {},
   "outputs": [
    {
     "data": {
      "image/png": "[encoded data removed]",
      "text/plain": [
       "<Figure size 1000x600 with 1 Axes>"
      ]
     },
     "metadata": {},
     "output_type": "display_data"
    }
   ],
   "source": [
    "var_XGB = explained_variance_score(y_test, xgb_reg.predict(X_test))\n",
    "var_GB = explained_variance_score(y_test, gb_reg.predict(X_test))\n",
    "var_RF = explained_variance_score(y_test, rf_reg.predict(X_test))\n",
    "\n",
    "# Find the model with the highest ROC-AUC score\n",
    "model = np.array([\n",
    "    ['XGBoost Regression', var_XGB],\n",
    "    ['Gradient Boosting', var_GB],\n",
    "    ['Random Forest', var_RF],\n",
    "\n",
    "])\n",
    "\n",
    "# Extract model names and accuracy scores\n",
    "model_names = model[:, 0]\n",
    "accuracy_scores = model[:, 1].astype(float)\n",
    "\n",
    "# Sort the data based on accuracy scores in descending order\n",
    "sorted_indices = np.argsort(accuracy_scores)[::-1]\n",
    "model_names = model_names[sorted_indices]\n",
    "accuracy_scores = accuracy_scores[sorted_indices]\n",
    "\n",
    "# Create the bar chart\n",
    "plt.figure(figsize=(10, 6))\n",
    "plt.barh(model_names, accuracy_scores, color= 'Yellow')\n",
    "plt.xlabel('EXPLAINED VARIANCE')\n",
    "plt.title('Explained Variance Score for Different Models (Sorted)')\n",
    "plt.grid(axis='x', linestyle=' ', alpha=0.6)\n",
    "\n",
    "# Display the accuracy scores on the bars\n",
    "for i, accuracy in enumerate(accuracy_scores):\n",
    "    plt.text(accuracy, i, f'{accuracy:.2f}', va='center', fontsize=12, color='black')\n",
    "\n",
    "plt.show()"
   ]
  },
  {
   "cell_type": "markdown",
   "id": "29609dcb-1525-4490-9e7d-ca092e51cb97",
   "metadata": {},
   "source": [
    "# CONCLUSION"
   ]
  },
  {
   "cell_type": "markdown",
   "id": "742d0470-0617-48eb-ad67-8b9696aaac0a",
   "metadata": {},
   "source": [
    "### Findings:"
   ]
  },
  {
   "cell_type": "markdown",
   "id": "66d62ee9-7b72-4eb5-8c37-68d46e4e53f0",
   "metadata": {},
   "source": [
    "<p>\n",
    "Upon comprehensive analysis of the evaluation metrics, it is evident that both the XGBoost and Gradient Boosting algorithms have demonstrated superior performance compared to the Random Forest model across multiple criteria.\n",
    "</br></br>• XGBoost (XGB) and Gradient Boosting (GB) exhibit lower Mean Squared Error (MSE) values compared to Random Forest (RF), with XGBoost at 71.16 and Gradient Boosting at 69.28, outperforming Random Forest's 85.38.\n",
    "</br></br>• In terms of Mean Absolute Error (MAE), XGBoost and Gradient Boosting also demonstrate superior performance, with XGBoost registering 4.22 and Gradient Boosting at 4.19, compared to Random Forest's 4.86.\n",
    "</br></br>• Both XGBoost and Gradient Boosting achieve higher R2 scores (0.75) compared to Random Forest (0.70), indicating better overall fit of the models to the data.\n",
    "</br></br>• The Explained Variance for XGBoost and Gradient Boosting stands at 0.75, while Random Forest lags behind at 0.70.\n",
    "</br></br>Overall, based on the lower MSE and MAE, higher R2 score, and Explained Variance, XGBoost and Gradient Boosting models perform better compared to Random Forest. </p>"
   ]
  }
 ],
 "metadata": {
  "kernelspec": {
   "display_name": "Python 3 (ipykernel)",
   "language": "python",
   "name": "python3"
  },
  "language_info": {
   "codemirror_mode": {
    "name": "ipython",
    "version": 3
   },
   "file_extension": ".py",
   "mimetype": "text/x-python",
   "name": "python",
   "nbconvert_exporter": "python",
   "pygments_lexer": "ipython3",
   "version": "3.11.5"
  }
 },
 "nbformat": 4,
 "nbformat_minor": 5
}

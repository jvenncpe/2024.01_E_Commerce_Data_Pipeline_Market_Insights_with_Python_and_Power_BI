{
 "cells": [
  {
   "cell_type": "code",
   "execution_count": 32,
   "id": "33d541b3",
   "metadata": {},
   "outputs": [
    {
     "name": "stdout",
     "output_type": "stream",
     "text": [
      "['SQL Server', 'Microsoft Access Driver (*.mdb, *.accdb)', 'Microsoft Excel Driver (*.xls, *.xlsx, *.xlsm, *.xlsb)', 'Microsoft Access Text Driver (*.txt, *.csv)', 'ODBC Driver 17 for SQL Server', 'SQL Server Native Client RDA 11.0', 'SQL Server Native Client RDA 11.0']\n"
     ]
    }
   ],
   "source": [
    "import pypyodbc as odbc #!pip install pypyodbc\n",
    "import pandas as pd\n",
    "import time\n",
    "import datetime\n",
    "import os\n",
    "\n",
    "print(odbc.drivers())"
   ]
  },
  {
   "cell_type": "markdown",
   "id": "80bb3e95-b4a8-4ef9-b0dd-6a6e1d65e3f7",
   "metadata": {},
   "source": [
    "#### Needed Inputs:"
   ]
  },
  {
   "cell_type": "code",
   "execution_count": 33,
   "id": "2618cbac-d8be-47e3-ab37-14cb3e8fbd4b",
   "metadata": {},
   "outputs": [],
   "source": [
    "driverName = \"SQL Server\" \n",
    "serverName = \"DESKTOP-UVMKETP\\SQLEXPRESS\"\n",
    "dataBaseName = \"SQL_PowerBI_Test\"\n",
    "username = \"jvenncpe\"\n",
    "pwd = \"#Juv1994*\"\n",
    "tableName = \"productDetails\"\n",
    "\n",
    "csv_FilePaTH = r\"G:\\00 Work Files\\02 Work Trainings & Apps\\00 Project Portfolio\\Ecommerce_Amazon (Python, SQL, PowerBI)\"\n",
    "csv_FolderName = r\"CSV Files\"\n",
    "csv_FileName = r\"product_details_updateSQL.csv\" #To be used for column name reference in SQL Table"
   ]
  },
  {
   "cell_type": "markdown",
   "id": "ec0aeeb0-e713-491e-898f-471739ad7bde",
   "metadata": {},
   "source": [
    "### Custom Functions"
   ]
  },
  {
   "cell_type": "code",
   "execution_count": 34,
   "id": "f3d287df",
   "metadata": {},
   "outputs": [],
   "source": [
    "def updateSQL():\n",
    "    try:\n",
    "        conn.commit()\n",
    "        return print(\"SQL Updated Successfully!\")\n",
    "        \n",
    "    except Exception as e:\n",
    "        return print(f\"Error occurred: {e}\")\n",
    "\n",
    "def SQL_createTable_columnName(column):\n",
    "    column_names = []\n",
    "    for x in column:\n",
    "        x = f'[{x}] VARCHAR(MAX)'\n",
    "        column_names.append(x)\n",
    "    return ', '.join(column_names)  # Join the column names with commas\n",
    "\n",
    "def SQL_createTable_query(tableName,tableColumns):\n",
    "    createTable_query = f\"\\\n",
    "    IF NOT EXISTS (SELECT * FROM INFORMATION_SCHEMA.TABLES WHERE TABLE_NAME = '{tableName}')\\\n",
    "    BEGIN\\\n",
    "        CREATE TABLE {dataBaseName}.dbo.{tableName}({tableColumns})\\\n",
    "    END\".strip()\n",
    "    return createTable_query\n",
    "\n",
    "def SQL_dropTable_query(SQLDatabase,SQLTableName):\n",
    "    SQL_dropTable_query = f\"\\\n",
    "        DROP TABLE IF EXISTS {SQLDatabase}.dbo.{SQLTableName}\".strip()\n",
    "    return SQL_dropTable_query\n",
    "\n",
    "def bulk_insert(datapath_file, SQL_Table):\n",
    "    insertBulk_query = f\"\"\"\n",
    "        BULK INSERT {SQL_Table}\n",
    "        FROM '{datapath_file}'\n",
    "        WITH\n",
    "        (   \n",
    "            FORMAT='CSV',\n",
    "            FIRSTROW = 2, \n",
    "            FIELDTERMINATOR = ',',\n",
    "            ROWTERMINATOR = '\\\\n'\n",
    "        )    \n",
    "    \"\"\".strip()\n",
    "    return insertBulk_query"
   ]
  },
  {
   "cell_type": "markdown",
   "id": "67c27963-55f5-4ff7-a390-06080658e313",
   "metadata": {},
   "source": [
    "#### Adhoc SQL Configuration"
   ]
  },
  {
   "cell_type": "code",
   "execution_count": 35,
   "id": "e0969561-8207-452e-93bf-77dc72851fa3",
   "metadata": {},
   "outputs": [
    {
     "name": "stdout",
     "output_type": "stream",
     "text": [
      "Connection successful!\n"
     ]
    }
   ],
   "source": [
    "connection_string = f\"\"\"\n",
    "    DRIVER={{{driverName}}};\n",
    "    SERVER={serverName};\n",
    "    DATABASE={dataBaseName};\n",
    "    Trust_Connection=yes;\n",
    "    UID={username};\n",
    "    PWD={pwd};\n",
    "\"\"\"\n",
    "try:\n",
    "    conn = odbc.connect(connection_string)\n",
    "    cursor = conn.cursor()\n",
    "    print(\"Connection successful!\")\n",
    "\n",
    "except Exception as e:\n",
    "    print(f\"Error: {e}\")\n"
   ]
  },
  {
   "cell_type": "markdown",
   "id": "bb8e6cb8",
   "metadata": {},
   "source": [
    "#### Main Function"
   ]
  },
  {
   "cell_type": "code",
   "execution_count": 36,
   "id": "44223e83",
   "metadata": {},
   "outputs": [
    {
     "name": "stdout",
     "output_type": "stream",
     "text": [
      "SQL Updated Successfully!\n",
      "SQL Updated Successfully!\n",
      "Target SQL Table: SQL_PowerBI_Test.dbo.productDetails\n",
      "---------------------------\n",
      "Files to Upload:\n",
      "product_details_updateSQL_2024-02-29.csv\n",
      "---------------------------\n",
      "SQL Updated Successfully!\n"
     ]
    }
   ],
   "source": [
    "if __name__ == '__main__':\n",
    "    \n",
    "    csv_filePaTH_REF = os.path.join(csv_FilePaTH,csv_FolderName,csv_FileName)   \n",
    "    csv_FoldderPath = os.path.join(csv_FilePaTH, csv_FolderName)\n",
    "    \n",
    "    df_productDetails = pd.read_csv(csv_filePaTH_REF, encoding='latin1', na_values=[\"\"])\n",
    "    \n",
    "    for columnName in df_productDetails.columns:\n",
    "        columnName_After = columnName.replace(\".\",\"\")\n",
    "        columnName_After = columnName_After.replace(\" \",\"_\")\n",
    "        df_productDetails.rename(columns={columnName: columnName_After}, inplace=True)\n",
    "\n",
    "    cursor = conn.cursor()\n",
    "    try:\n",
    "        with cursor:\n",
    "            cursor.execute(SQL_dropTable_query(dataBaseName,tableName))\n",
    "            updateSQL()\n",
    "    except Exception as e:\n",
    "        print(e)\n",
    "        conn.rollback()\n",
    "        print('Transaction rollback')\n",
    "    \n",
    "    cursor = conn.cursor()\n",
    "    tableColumns = SQL_createTable_columnName(df_productDetails.columns)\n",
    "    try:\n",
    "        with cursor:\n",
    "            cursor.execute(SQL_createTable_query(tableName,tableColumns))\n",
    "            updateSQL()\n",
    "    except Exception as e:\n",
    "        print(e)\n",
    "        conn.rollback()\n",
    "        print('Transaction rollback')\n",
    "    \n",
    "    data_files = os.listdir(csv_FoldderPath)\n",
    "    SQL_Table = f'{dataBaseName}.dbo.{tableName}'\n",
    "    \n",
    "    cursor = conn.cursor()\n",
    "    try:\n",
    "        with cursor:\n",
    "            print(f\"Target SQL Table: {SQL_Table}\")\n",
    "            print(f\"---------------------------\")\n",
    "            print(f\"Files to Upload:\")\n",
    "            \n",
    "            current_time = datetime.datetime.now()\n",
    "            current_date = current_time.strftime(\"%Y-%m-%d\")\n",
    "            \n",
    "            for data_file in data_files:\n",
    "                if data_file.endswith(f'_{current_date}.csv'):\n",
    "                    cursor.execute(bulk_insert(os.path.join(csv_FoldderPath, data_file), SQL_Table))\n",
    "                    print(data_file)\n",
    "                    \n",
    "            print(f\"---------------------------\")\n",
    "            updateSQL()\n",
    "            \n",
    "    except Exception as e:\n",
    "        print(e)\n",
    "        conn.rollback()\n",
    "        print('Transaction rollback')"
   ]
  }
 ],
 "metadata": {
  "kernelspec": {
   "display_name": "ecommerceAmazon",
   "language": "python",
   "name": "ecommerceamazon"
  },
  "language_info": {
   "codemirror_mode": {
    "name": "ipython",
    "version": 3
   },
   "file_extension": ".py",
   "mimetype": "text/x-python",
   "name": "python",
   "nbconvert_exporter": "python",
   "pygments_lexer": "ipython3",
   "version": "3.10.11"
  }
 },
 "nbformat": 4,
 "nbformat_minor": 5
}
